{
  "nbformat": 4,
  "nbformat_minor": 0,
  "metadata": {
    "colab": {
      "name": "Images=200/cat Exp-1 MAP@200-48.22%.ipynb",
      "version": "0.3.2",
      "provenance": [],
      "collapsed_sections": []
    },
    "kernelspec": {
      "name": "python3",
      "display_name": "Python 3"
    },
    "accelerator": "GPU"
  },
  "cells": [
    {
      "cell_type": "code",
      "metadata": {
        "id": "lvW9GfWPI4hC",
        "colab_type": "code",
        "outputId": "a7278a2f-a097-45c6-8fe1-79d12c41c03a",
        "colab": {
          "base_uri": "https://localhost:8080/",
          "height": 34
        }
      },
      "source": [
        "from google.colab import drive\n",
        "drive.mount('/content/gdrive')"
      ],
      "execution_count": 0,
      "outputs": [
        {
          "output_type": "stream",
          "text": [
            "Drive already mounted at /content/gdrive; to attempt to forcibly remount, call drive.mount(\"/content/gdrive\", force_remount=True).\n"
          ],
          "name": "stdout"
        }
      ]
    },
    {
      "cell_type": "code",
      "metadata": {
        "id": "zJQB545WWDM-",
        "colab_type": "code",
        "colab": {}
      },
      "source": [
        "from scipy.spatial.distance import cdist\n",
        "def eval_MAP_K(query_set, search_set, query_label, search_set_label, K):\n",
        "    query_class_arr = query_set\n",
        "    search_set_class_arr = search_set\n",
        "    query_label_arr = query_label\n",
        "    query_label_arr.astype(int)\n",
        "    search_set_label_arr = search_set_label\n",
        "    search_set_label_arr.astype(int)\n",
        "    num_query_sample = query_label_arr.shape[0]\n",
        "    dist_q_search_class = cdist(query_class_arr,search_set_class_arr,metric='euclidean')\n",
        "    AP=0\n",
        "    pre=0\n",
        "    for query_count in range(0,num_query_sample):\n",
        "      actual_label = query_label_arr[query_count]\n",
        "      value=dist_q_search_class[query_count,:]\n",
        "      sorted_value_idx=value.argsort()\n",
        "      predicted_K_label = search_set_label_arr[sorted_value_idx[0:K]]\n",
        "      L=np.sum((np.in1d(predicted_K_label,actual_label)).astype(int))\n",
        "      P=0\n",
        "      for r in range(0,K):\n",
        "        rtr_label_r = predicted_K_label[:(r+1)]\n",
        "        l=np.sum((np.in1d(rtr_label_r,actual_label)).astype(int))\n",
        "        precision=l/(r+1)\n",
        "        if actual_label==predicted_K_label[r]:\n",
        "          delta=1\n",
        "        else:\n",
        "          delta=0\n",
        "        P=P+(precision*delta)\n",
        "      if L!=0:\n",
        "        AP=AP+((1/L)*P)\n",
        "    map_K=AP/num_query_sample\n",
        "    return map_K"
      ],
      "execution_count": 0,
      "outputs": []
    },
    {
      "cell_type": "code",
      "metadata": {
        "id": "sxbynuycWDP1",
        "colab_type": "code",
        "colab": {}
      },
      "source": [
        "def get_skt_data():\n",
        "  training_query_skt=[]\n",
        "  training_query_label=[]\n",
        "  z_s=[]\n",
        "  q=0\n",
        "  z=0\n",
        "  for skt_fea in x_train_skt:\n",
        "    z_s.append(skt_fea)\n",
        "    training_query_skt.append(encoder_skt.predict(skt_fea.reshape(4096,1).transpose()))\n",
        "    training_query_label.append(q)\n",
        "    z=z+1\n",
        "    if z%64 ==0:\n",
        "      q=q+1\n",
        "  return np.squeeze(np.asarray(training_query_skt)),np.asarray(training_query_label).reshape(5888,1),z_s"
      ],
      "execution_count": 0,
      "outputs": []
    },
    {
      "cell_type": "code",
      "metadata": {
        "id": "LUWdXm1YWDSu",
        "colab_type": "code",
        "colab": {}
      },
      "source": [
        "def get_img_data():\n",
        "  training_search_img=[]\n",
        "  training_search_img_label=[]\n",
        "  z_i=[]\n",
        "  p=0\n",
        "  z=0\n",
        "  for img_fea in x_train_img:\n",
        "    z_i.append(img_fea)\n",
        "    training_search_img.append(encoder_img.predict(img_fea.reshape(4096,1).transpose()))\n",
        "    training_search_img_label.append(p)\n",
        "    z=z+1\n",
        "    if z%200 == 0:\n",
        "      p=p+1\n",
        "  return np.squeeze(np.asarray(training_search_img)),np.asarray(training_search_img_label).reshape(x_train_img.shape[0],1),z_i"
      ],
      "execution_count": 0,
      "outputs": []
    },
    {
      "cell_type": "code",
      "metadata": {
        "id": "1cahxkHtakz_",
        "colab_type": "code",
        "colab": {}
      },
      "source": [
        "#z=np.where(x_train_skt==x_train_skt[0])"
      ],
      "execution_count": 0,
      "outputs": []
    },
    {
      "cell_type": "code",
      "metadata": {
        "id": "KyoyvT5mWDLJ",
        "colab_type": "code",
        "colab": {}
      },
      "source": [
        "def calc():\n",
        "  training_query_skt,training_query_label,z_s=get_skt_data()\n",
        "  training_search_img,training_search_img_label,z_i=get_img_data()\n",
        "  return eval_MAP_K(training_query_skt,training_search_img,training_query_label,training_search_img_label,200)"
      ],
      "execution_count": 0,
      "outputs": []
    },
    {
      "cell_type": "code",
      "metadata": {
        "id": "_FLAGc6HL6Ym",
        "colab_type": "code",
        "colab": {}
      },
      "source": [
        "import os\n",
        "import numpy as np\n",
        "dictionary={}\n",
        "training_files='/content/gdrive/My Drive/Feature_Vectors/Sketchs/Training'\n",
        "labels=os.listdir(training_files)\n",
        "labels.sort()\n",
        "x_train_skt=[]\n",
        "y_train=[]\n",
        "y_t=[]\n",
        "a=0\n",
        "for label in labels:\n",
        "  skt_fea_names=os.listdir(os.path.join(training_files,label))\n",
        "  for skt in skt_fea_names:\n",
        "    skt_fea_path=os.path.join(training_files,label,skt)\n",
        "    skt_fea=np.load(skt_fea_path)\n",
        "    x_train_skt.append(skt_fea)\n",
        "    y_t.append(a)\n",
        "    y_train.append(label)\n",
        "    a=a+1\n",
        "x_train_skt=np.asarray(x_train_skt)"
      ],
      "execution_count": 0,
      "outputs": []
    },
    {
      "cell_type": "code",
      "metadata": {
        "id": "V19UtzfPREak",
        "colab_type": "code",
        "colab": {}
      },
      "source": [
        "from sklearn.preprocessing import OneHotEncoder\n",
        "ohe_skt=OneHotEncoder()\n",
        "one_hot_skt=ohe_skt.fit_transform(np.asarray(y_train).reshape(92,64))\n",
        "one_hot_skt=one_hot_skt.toarray()\n",
        "one_hot_skt=one_hot_skt.transpose()"
      ],
      "execution_count": 0,
      "outputs": []
    },
    {
      "cell_type": "code",
      "metadata": {
        "id": "ZHzkYYY7L6cG",
        "colab_type": "code",
        "colab": {}
      },
      "source": [
        "img_training_files='/content/gdrive/My Drive/TUB_200_Feat'\n",
        "labels=os.listdir(img_training_files)\n",
        "labels.sort()\n",
        "x_train_img=[]\n",
        "y_train_img=[]\n",
        "y_t_i=[]\n",
        "b=0\n",
        "for label in labels:\n",
        "  img_names=os.listdir(os.path.join(img_training_files,label))\n",
        "  for img in img_names:\n",
        "    img_fea_path=os.path.join(img_training_files,label,img)\n",
        "    img_fea=np.load(img_fea_path)\n",
        "    x_train_img.append(img_fea)\n",
        "    y_t_i.append(b)\n",
        "    y_train_img.append(label)\n",
        "    b=b+1\n",
        "x_train_img=np.asarray(x_train_img)"
      ],
      "execution_count": 0,
      "outputs": []
    },
    {
      "cell_type": "code",
      "metadata": {
        "id": "WXfpjZ-HFlEa",
        "colab_type": "code",
        "outputId": "ff8a0a8e-dd5a-45ef-df1c-634bfc7492b2",
        "colab": {
          "base_uri": "https://localhost:8080/",
          "height": 34
        }
      },
      "source": [
        "b"
      ],
      "execution_count": 0,
      "outputs": [
        {
          "output_type": "execute_result",
          "data": {
            "text/plain": [
              "18410"
            ]
          },
          "metadata": {
            "tags": []
          },
          "execution_count": 10
        }
      ]
    },
    {
      "cell_type": "code",
      "metadata": {
        "id": "eeEq6y22HaNZ",
        "colab_type": "code",
        "colab": {}
      },
      "source": [
        "import pandas as pd"
      ],
      "execution_count": 0,
      "outputs": []
    },
    {
      "cell_type": "code",
      "metadata": {
        "id": "c99xKsgeFOxy",
        "colab_type": "code",
        "colab": {}
      },
      "source": [
        "temp=pd.DataFrame(y_train)"
      ],
      "execution_count": 0,
      "outputs": []
    },
    {
      "cell_type": "code",
      "metadata": {
        "id": "u_E3AZujHiTG",
        "colab_type": "code",
        "colab": {}
      },
      "source": [
        "unique_labels=temp[0].unique()"
      ],
      "execution_count": 0,
      "outputs": []
    },
    {
      "cell_type": "code",
      "metadata": {
        "id": "ofjzUeo4Hu-s",
        "colab_type": "code",
        "colab": {}
      },
      "source": [
        "unique_labels.sort()"
      ],
      "execution_count": 0,
      "outputs": []
    },
    {
      "cell_type": "code",
      "metadata": {
        "id": "FI3KIAozHy4P",
        "colab_type": "code",
        "colab": {}
      },
      "source": [
        "a=unique_labels.reshape(92,1)"
      ],
      "execution_count": 0,
      "outputs": []
    },
    {
      "cell_type": "code",
      "metadata": {
        "id": "yEie2TI1L6XV",
        "colab_type": "code",
        "colab": {}
      },
      "source": [
        "ohe_skt=OneHotEncoder()\n",
        "one_hot_skt=ohe_skt.fit_transform(a)\n",
        "one_hot_skt=one_hot_skt.toarray()\n",
        "one_hot_skt=one_hot_skt.transpose()"
      ],
      "execution_count": 0,
      "outputs": []
    },
    {
      "cell_type": "code",
      "metadata": {
        "id": "DLwVspPnE7zi",
        "colab_type": "code",
        "outputId": "af7c39d8-ba64-4e4b-aeda-68989128fbf4",
        "colab": {
          "base_uri": "https://localhost:8080/",
          "height": 34
        }
      },
      "source": [
        "one_hot_skt.shape"
      ],
      "execution_count": 0,
      "outputs": [
        {
          "output_type": "execute_result",
          "data": {
            "text/plain": [
              "(92, 92)"
            ]
          },
          "metadata": {
            "tags": []
          },
          "execution_count": 17
        }
      ]
    },
    {
      "cell_type": "code",
      "metadata": {
        "id": "tQlmAAgfIEUW",
        "colab_type": "code",
        "colab": {}
      },
      "source": [
        "f_one_hot_skt=[]\n",
        "for row in one_hot_skt:\n",
        "   for i in range(64):\n",
        "    f_one_hot_skt.append(row)"
      ],
      "execution_count": 0,
      "outputs": []
    },
    {
      "cell_type": "code",
      "metadata": {
        "id": "t7t1elmCIYgn",
        "colab_type": "code",
        "colab": {}
      },
      "source": [
        "f_one_hot_skt=np.asarray(f_one_hot_skt)"
      ],
      "execution_count": 0,
      "outputs": []
    },
    {
      "cell_type": "code",
      "metadata": {
        "id": "ZrTTbStsIe-n",
        "colab_type": "code",
        "outputId": "7f74a226-9672-4eab-cb38-e9c53cab2b7e",
        "colab": {
          "base_uri": "https://localhost:8080/",
          "height": 119
        }
      },
      "source": [
        "f_one_hot_skt[64]"
      ],
      "execution_count": 0,
      "outputs": [
        {
          "output_type": "execute_result",
          "data": {
            "text/plain": [
              "array([0., 1., 0., 0., 0., 0., 0., 0., 0., 0., 0., 0., 0., 0., 0., 0., 0.,\n",
              "       0., 0., 0., 0., 0., 0., 0., 0., 0., 0., 0., 0., 0., 0., 0., 0., 0.,\n",
              "       0., 0., 0., 0., 0., 0., 0., 0., 0., 0., 0., 0., 0., 0., 0., 0., 0.,\n",
              "       0., 0., 0., 0., 0., 0., 0., 0., 0., 0., 0., 0., 0., 0., 0., 0., 0.,\n",
              "       0., 0., 0., 0., 0., 0., 0., 0., 0., 0., 0., 0., 0., 0., 0., 0., 0.,\n",
              "       0., 0., 0., 0., 0., 0., 0.])"
            ]
          },
          "metadata": {
            "tags": []
          },
          "execution_count": 20
        }
      ]
    },
    {
      "cell_type": "code",
      "metadata": {
        "id": "331CHaPJrGOX",
        "colab_type": "code",
        "colab": {}
      },
      "source": [
        "temp_img=pd.DataFrame(y_train_img)"
      ],
      "execution_count": 0,
      "outputs": []
    },
    {
      "cell_type": "code",
      "metadata": {
        "id": "bZJsAiZeGEfo",
        "colab_type": "code",
        "outputId": "f8e9a990-c588-40d9-9b98-e5a2d09b920d",
        "colab": {
          "base_uri": "https://localhost:8080/",
          "height": 306
        }
      },
      "source": [
        "temp_img[0].unique()"
      ],
      "execution_count": 0,
      "outputs": [
        {
          "output_type": "execute_result",
          "data": {
            "text/plain": [
              "array(['alarm clock', 'arm', 'armchair', 'ashtray', 'axe', 'backpack',\n",
              "       'banana', 'barn', 'baseball bat', 'basket', 'beer-mug',\n",
              "       'binoculars', 'book', 'brain', 'bread', 'bridge', 'bulldozer',\n",
              "       'bush', 'cake', 'camera', 'candle', 'cannon', 'castle',\n",
              "       'chandelier', 'church', 'cloud', 'computer monitor',\n",
              "       'computer-mouse', 'cow', 'crab', 'crocodile', 'dolphin', 'donut',\n",
              "       'door', 'envelope', 'eyeglasses', 'fish', 'floor lamp', 'giraffe',\n",
              "       'hedgehog', 'helicopter', 'hot air balloon', 'hot-dog',\n",
              "       'hourglass', 'house', 'ice-cream-cone', 'ipod', 'kangaroo', 'key',\n",
              "       'lighter', 'loudspeaker', 'mailbox', 'megaphone', 'microscope',\n",
              "       'mosquito', 'motorbike', 'parking meter', 'parrot', 'pear', 'pen',\n",
              "       'pigeon', 'pumpkin', 'race car', 'radio', 'revolver',\n",
              "       'rollerblades', 'scissors', 'sea turtle', 'seagull', 'shark',\n",
              "       'shoe', 'shovel', 'skateboard', 'skyscraper', 'snowboard', 'socks',\n",
              "       'spider', 'spoon', 'streetlight', 'sword', 'teapot', 'telephone',\n",
              "       'tomato', 'tractor', 'trafficlights', 'tree', 'trousers', 'tshirt',\n",
              "       'tv', 'vase', 'wheelbarrow', 'wrist-watch'], dtype=object)"
            ]
          },
          "metadata": {
            "tags": []
          },
          "execution_count": 22
        }
      ]
    },
    {
      "cell_type": "code",
      "metadata": {
        "id": "ATUwSW2rrGR6",
        "colab_type": "code",
        "colab": {}
      },
      "source": [
        "unique_labels_img=temp_img[0].unique()"
      ],
      "execution_count": 0,
      "outputs": []
    },
    {
      "cell_type": "code",
      "metadata": {
        "id": "0-QBiO2_r-CJ",
        "colab_type": "code",
        "colab": {}
      },
      "source": [
        "unique_labels_img.sort()"
      ],
      "execution_count": 0,
      "outputs": []
    },
    {
      "cell_type": "code",
      "metadata": {
        "id": "kE926hf7r-Hu",
        "colab_type": "code",
        "colab": {}
      },
      "source": [
        "b=unique_labels_img.reshape(92,1)"
      ],
      "execution_count": 0,
      "outputs": []
    },
    {
      "cell_type": "code",
      "metadata": {
        "id": "CgHdO5qGGOUm",
        "colab_type": "code",
        "outputId": "e650e0de-5170-4096-8583-5feadb7201ba",
        "colab": {
          "base_uri": "https://localhost:8080/",
          "height": 1581
        }
      },
      "source": [
        "b"
      ],
      "execution_count": 0,
      "outputs": [
        {
          "output_type": "execute_result",
          "data": {
            "text/plain": [
              "array([['alarm clock'],\n",
              "       ['arm'],\n",
              "       ['armchair'],\n",
              "       ['ashtray'],\n",
              "       ['axe'],\n",
              "       ['backpack'],\n",
              "       ['banana'],\n",
              "       ['barn'],\n",
              "       ['baseball bat'],\n",
              "       ['basket'],\n",
              "       ['beer-mug'],\n",
              "       ['binoculars'],\n",
              "       ['book'],\n",
              "       ['brain'],\n",
              "       ['bread'],\n",
              "       ['bridge'],\n",
              "       ['bulldozer'],\n",
              "       ['bush'],\n",
              "       ['cake'],\n",
              "       ['camera'],\n",
              "       ['candle'],\n",
              "       ['cannon'],\n",
              "       ['castle'],\n",
              "       ['chandelier'],\n",
              "       ['church'],\n",
              "       ['cloud'],\n",
              "       ['computer monitor'],\n",
              "       ['computer-mouse'],\n",
              "       ['cow'],\n",
              "       ['crab'],\n",
              "       ['crocodile'],\n",
              "       ['dolphin'],\n",
              "       ['donut'],\n",
              "       ['door'],\n",
              "       ['envelope'],\n",
              "       ['eyeglasses'],\n",
              "       ['fish'],\n",
              "       ['floor lamp'],\n",
              "       ['giraffe'],\n",
              "       ['hedgehog'],\n",
              "       ['helicopter'],\n",
              "       ['hot air balloon'],\n",
              "       ['hot-dog'],\n",
              "       ['hourglass'],\n",
              "       ['house'],\n",
              "       ['ice-cream-cone'],\n",
              "       ['ipod'],\n",
              "       ['kangaroo'],\n",
              "       ['key'],\n",
              "       ['lighter'],\n",
              "       ['loudspeaker'],\n",
              "       ['mailbox'],\n",
              "       ['megaphone'],\n",
              "       ['microscope'],\n",
              "       ['mosquito'],\n",
              "       ['motorbike'],\n",
              "       ['parking meter'],\n",
              "       ['parrot'],\n",
              "       ['pear'],\n",
              "       ['pen'],\n",
              "       ['pigeon'],\n",
              "       ['pumpkin'],\n",
              "       ['race car'],\n",
              "       ['radio'],\n",
              "       ['revolver'],\n",
              "       ['rollerblades'],\n",
              "       ['scissors'],\n",
              "       ['sea turtle'],\n",
              "       ['seagull'],\n",
              "       ['shark'],\n",
              "       ['shoe'],\n",
              "       ['shovel'],\n",
              "       ['skateboard'],\n",
              "       ['skyscraper'],\n",
              "       ['snowboard'],\n",
              "       ['socks'],\n",
              "       ['spider'],\n",
              "       ['spoon'],\n",
              "       ['streetlight'],\n",
              "       ['sword'],\n",
              "       ['teapot'],\n",
              "       ['telephone'],\n",
              "       ['tomato'],\n",
              "       ['tractor'],\n",
              "       ['trafficlights'],\n",
              "       ['tree'],\n",
              "       ['trousers'],\n",
              "       ['tshirt'],\n",
              "       ['tv'],\n",
              "       ['vase'],\n",
              "       ['wheelbarrow'],\n",
              "       ['wrist-watch']], dtype=object)"
            ]
          },
          "metadata": {
            "tags": []
          },
          "execution_count": 26
        }
      ]
    },
    {
      "cell_type": "code",
      "metadata": {
        "id": "hbEmgifarGMf",
        "colab_type": "code",
        "colab": {}
      },
      "source": [
        "ohe_img=OneHotEncoder()\n",
        "one_hot_img=ohe_img.fit_transform(b)\n",
        "one_hot_img=one_hot_img.toarray()\n",
        "one_hot_img=one_hot_img.transpose()"
      ],
      "execution_count": 0,
      "outputs": []
    },
    {
      "cell_type": "code",
      "metadata": {
        "id": "qmeM2gUxGNi9",
        "colab_type": "code",
        "colab": {}
      },
      "source": [
        ""
      ],
      "execution_count": 0,
      "outputs": []
    },
    {
      "cell_type": "code",
      "metadata": {
        "id": "O-JEFBKirGJv",
        "colab_type": "code",
        "outputId": "c37f6676-2383-40bd-96a7-307d70e5dad2",
        "colab": {
          "base_uri": "https://localhost:8080/",
          "height": 34
        }
      },
      "source": [
        "one_hot_img.shape"
      ],
      "execution_count": 0,
      "outputs": [
        {
          "output_type": "execute_result",
          "data": {
            "text/plain": [
              "(92, 92)"
            ]
          },
          "metadata": {
            "tags": []
          },
          "execution_count": 28
        }
      ]
    },
    {
      "cell_type": "code",
      "metadata": {
        "id": "XXIUCiX3soSz",
        "colab_type": "code",
        "colab": {}
      },
      "source": [
        "f_one_hot_img=[]\n",
        "for col in one_hot_img:\n",
        "  for j in range(0,200):\n",
        "    f_one_hot_img.append(col)"
      ],
      "execution_count": 0,
      "outputs": []
    },
    {
      "cell_type": "code",
      "metadata": {
        "id": "-p8UbR3SsoVu",
        "colab_type": "code",
        "colab": {}
      },
      "source": [
        "f_one_hot_img=np.asarray(f_one_hot_img)"
      ],
      "execution_count": 0,
      "outputs": []
    },
    {
      "cell_type": "code",
      "metadata": {
        "id": "RynlXKunrGHO",
        "colab_type": "code",
        "outputId": "21346f47-e138-4aea-c095-e5cc81b41002",
        "colab": {
          "base_uri": "https://localhost:8080/",
          "height": 34
        }
      },
      "source": [
        "f_one_hot_img.shape"
      ],
      "execution_count": 0,
      "outputs": [
        {
          "output_type": "execute_result",
          "data": {
            "text/plain": [
              "(18400, 92)"
            ]
          },
          "metadata": {
            "tags": []
          },
          "execution_count": 31
        }
      ]
    },
    {
      "cell_type": "code",
      "metadata": {
        "id": "U731m-mLMX6g",
        "colab_type": "code",
        "colab": {}
      },
      "source": [
        "p=[]\n",
        "for col in one_hot_img:\n",
        "  for j in range(0,200):\n",
        "    p.append(col)"
      ],
      "execution_count": 0,
      "outputs": []
    },
    {
      "cell_type": "code",
      "metadata": {
        "id": "ySJXKEUeM7qX",
        "colab_type": "code",
        "outputId": "acdf6f42-a50a-460b-cce2-a44c048fcb94",
        "colab": {
          "base_uri": "https://localhost:8080/",
          "height": 119
        }
      },
      "source": [
        "p[199]"
      ],
      "execution_count": 0,
      "outputs": [
        {
          "output_type": "execute_result",
          "data": {
            "text/plain": [
              "array([1., 0., 0., 0., 0., 0., 0., 0., 0., 0., 0., 0., 0., 0., 0., 0., 0.,\n",
              "       0., 0., 0., 0., 0., 0., 0., 0., 0., 0., 0., 0., 0., 0., 0., 0., 0.,\n",
              "       0., 0., 0., 0., 0., 0., 0., 0., 0., 0., 0., 0., 0., 0., 0., 0., 0.,\n",
              "       0., 0., 0., 0., 0., 0., 0., 0., 0., 0., 0., 0., 0., 0., 0., 0., 0.,\n",
              "       0., 0., 0., 0., 0., 0., 0., 0., 0., 0., 0., 0., 0., 0., 0., 0., 0.,\n",
              "       0., 0., 0., 0., 0., 0., 0.])"
            ]
          },
          "metadata": {
            "tags": []
          },
          "execution_count": 33
        }
      ]
    },
    {
      "cell_type": "code",
      "metadata": {
        "id": "bvKWBxjcM7tQ",
        "colab_type": "code",
        "colab": {}
      },
      "source": [
        "row_=p[18399]\n",
        "for i in range(10):\n",
        "  p.append(row_)"
      ],
      "execution_count": 0,
      "outputs": []
    },
    {
      "cell_type": "code",
      "metadata": {
        "id": "yGlZShyuNLB0",
        "colab_type": "code",
        "colab": {}
      },
      "source": [
        "p=np.asarray(p)"
      ],
      "execution_count": 0,
      "outputs": []
    },
    {
      "cell_type": "code",
      "metadata": {
        "id": "dUyLvpkwNP-X",
        "colab_type": "code",
        "outputId": "1b6f18c8-39a5-4ab7-d43a-9f68b24a2d41",
        "colab": {
          "base_uri": "https://localhost:8080/",
          "height": 34
        }
      },
      "source": [
        "p.shape"
      ],
      "execution_count": 0,
      "outputs": [
        {
          "output_type": "execute_result",
          "data": {
            "text/plain": [
              "(18410, 92)"
            ]
          },
          "metadata": {
            "tags": []
          },
          "execution_count": 36
        }
      ]
    },
    {
      "cell_type": "code",
      "metadata": {
        "id": "I8_xH90FE_7n",
        "colab_type": "code",
        "outputId": "30faade3-7b9c-4893-eb10-2f174727076b",
        "colab": {
          "base_uri": "https://localhost:8080/",
          "height": 34
        }
      },
      "source": [
        "one_hot_skt.shape"
      ],
      "execution_count": 0,
      "outputs": [
        {
          "output_type": "execute_result",
          "data": {
            "text/plain": [
              "(92, 92)"
            ]
          },
          "metadata": {
            "tags": []
          },
          "execution_count": 37
        }
      ]
    },
    {
      "cell_type": "code",
      "metadata": {
        "id": "v4HN8P7DJ5if",
        "colab_type": "code",
        "colab": {}
      },
      "source": [
        "from tensorflow.python.keras.layers import Input, Dense\n",
        "from tensorflow.python.keras.models import Model\n",
        "from tensorflow.python.keras import regularizers"
      ],
      "execution_count": 0,
      "outputs": []
    },
    {
      "cell_type": "code",
      "metadata": {
        "id": "CJGCb4R2JQ6B",
        "colab_type": "code",
        "outputId": "9b9dad81-62c5-40c8-c8ac-bdb07865ffe3",
        "colab": {
          "base_uri": "https://localhost:8080/",
          "height": 88
        }
      },
      "source": [
        "input_img = Input(shape=(4096,))\n",
        "# \"encoded\" is the encoded representation of the input\n",
        "encoded_img = Dense(92, activation='relu', kernel_regularizer=regularizers.l2(0.1))(input_img)\n",
        "# \"decoded\" is the lossy reconstruction of the input\n",
        "decoded_img = Dense(4096,activation='relu', kernel_regularizer=regularizers.l2(0.1))(encoded_img)\n",
        "\n",
        "# this model maps an input to its reconstruction\n",
        "autoencoder_img = Model(input_img, [decoded_img,encoded_img])"
      ],
      "execution_count": 0,
      "outputs": [
        {
          "output_type": "stream",
          "text": [
            "WARNING:tensorflow:From /usr/local/lib/python3.6/dist-packages/tensorflow/python/ops/resource_variable_ops.py:435: colocate_with (from tensorflow.python.framework.ops) is deprecated and will be removed in a future version.\n",
            "Instructions for updating:\n",
            "Colocations handled automatically by placer.\n"
          ],
          "name": "stdout"
        }
      ]
    },
    {
      "cell_type": "code",
      "metadata": {
        "id": "2GtH6SEmKiKI",
        "colab_type": "code",
        "colab": {}
      },
      "source": [
        "encoder_img = Model(input_img, encoded_img)"
      ],
      "execution_count": 0,
      "outputs": []
    },
    {
      "cell_type": "code",
      "metadata": {
        "id": "X7hnGpE6K44j",
        "colab_type": "code",
        "outputId": "5fc30fd2-b7b4-4a1e-8504-b88b92c97855",
        "colab": {
          "base_uri": "https://localhost:8080/",
          "height": 238
        }
      },
      "source": [
        "autoencoder_img.summary()"
      ],
      "execution_count": 0,
      "outputs": [
        {
          "output_type": "stream",
          "text": [
            "_________________________________________________________________\n",
            "Layer (type)                 Output Shape              Param #   \n",
            "=================================================================\n",
            "input_1 (InputLayer)         (None, 4096)              0         \n",
            "_________________________________________________________________\n",
            "dense (Dense)                (None, 92)                376924    \n",
            "_________________________________________________________________\n",
            "dense_1 (Dense)              (None, 4096)              380928    \n",
            "=================================================================\n",
            "Total params: 757,852\n",
            "Trainable params: 757,852\n",
            "Non-trainable params: 0\n",
            "_________________________________________________________________\n"
          ],
          "name": "stdout"
        }
      ]
    },
    {
      "cell_type": "code",
      "metadata": {
        "id": "txCDACq_LXW3",
        "colab_type": "code",
        "outputId": "0197e497-165d-4673-a664-8933ef055795",
        "colab": {
          "base_uri": "https://localhost:8080/",
          "height": 204
        }
      },
      "source": [
        "encoder_img.summary()"
      ],
      "execution_count": 0,
      "outputs": [
        {
          "output_type": "stream",
          "text": [
            "_________________________________________________________________\n",
            "Layer (type)                 Output Shape              Param #   \n",
            "=================================================================\n",
            "input_1 (InputLayer)         (None, 4096)              0         \n",
            "_________________________________________________________________\n",
            "dense (Dense)                (None, 92)                376924    \n",
            "=================================================================\n",
            "Total params: 376,924\n",
            "Trainable params: 376,924\n",
            "Non-trainable params: 0\n",
            "_________________________________________________________________\n"
          ],
          "name": "stdout"
        }
      ]
    },
    {
      "cell_type": "code",
      "metadata": {
        "id": "tfvt0o1WK7lj",
        "colab_type": "code",
        "colab": {}
      },
      "source": [
        "input_skt = Input(shape=(4096,))\n",
        "# \"encoded\" is the encoded representation of the input\n",
        "encoded_skt = Dense(92,activation='relu',kernel_regularizer=regularizers.l2(0.1))(input_skt)\n",
        "# \"decoded\" is the lossy reconstruction of the input\n",
        "decoded_skt = Dense(4096, activation='relu', kernel_regularizer=regularizers.l2(0.1))(encoded_skt)\n",
        "\n",
        "# this model maps an input to its reconstruction\n",
        "autoencoder_skt = Model(input_skt, [decoded_skt,encoded_skt])"
      ],
      "execution_count": 0,
      "outputs": []
    },
    {
      "cell_type": "code",
      "metadata": {
        "id": "S5dWJB8pK93m",
        "colab_type": "code",
        "colab": {}
      },
      "source": [
        "encoder_skt = Model(input_skt, encoded_skt)"
      ],
      "execution_count": 0,
      "outputs": []
    },
    {
      "cell_type": "code",
      "metadata": {
        "id": "UnWexYwSLQN7",
        "colab_type": "code",
        "outputId": "d4797d2a-ca0a-470c-ef6d-96064f37a575",
        "colab": {
          "base_uri": "https://localhost:8080/",
          "height": 238
        }
      },
      "source": [
        "autoencoder_skt.summary()"
      ],
      "execution_count": 0,
      "outputs": [
        {
          "output_type": "stream",
          "text": [
            "_________________________________________________________________\n",
            "Layer (type)                 Output Shape              Param #   \n",
            "=================================================================\n",
            "input_2 (InputLayer)         (None, 4096)              0         \n",
            "_________________________________________________________________\n",
            "dense_2 (Dense)              (None, 92)                376924    \n",
            "_________________________________________________________________\n",
            "dense_3 (Dense)              (None, 4096)              380928    \n",
            "=================================================================\n",
            "Total params: 757,852\n",
            "Trainable params: 757,852\n",
            "Non-trainable params: 0\n",
            "_________________________________________________________________\n"
          ],
          "name": "stdout"
        }
      ]
    },
    {
      "cell_type": "code",
      "metadata": {
        "id": "5vmlmts6LS33",
        "colab_type": "code",
        "colab": {}
      },
      "source": [
        "parllel=Model([input_skt,input_img],[decoded_skt,encoded_skt,decoded_img,encoded_img])"
      ],
      "execution_count": 0,
      "outputs": []
    },
    {
      "cell_type": "code",
      "metadata": {
        "id": "nQLRvo1lLqaY",
        "colab_type": "code",
        "outputId": "4857e162-4421-4042-eb3f-0c870fb1cd55",
        "colab": {
          "base_uri": "https://localhost:8080/",
          "height": 340
        }
      },
      "source": [
        "parllel.summary()"
      ],
      "execution_count": 0,
      "outputs": [
        {
          "output_type": "stream",
          "text": [
            "__________________________________________________________________________________________________\n",
            "Layer (type)                    Output Shape         Param #     Connected to                     \n",
            "==================================================================================================\n",
            "input_2 (InputLayer)            (None, 4096)         0                                            \n",
            "__________________________________________________________________________________________________\n",
            "input_1 (InputLayer)            (None, 4096)         0                                            \n",
            "__________________________________________________________________________________________________\n",
            "dense_2 (Dense)                 (None, 92)           376924      input_2[0][0]                    \n",
            "__________________________________________________________________________________________________\n",
            "dense (Dense)                   (None, 92)           376924      input_1[0][0]                    \n",
            "__________________________________________________________________________________________________\n",
            "dense_3 (Dense)                 (None, 4096)         380928      dense_2[0][0]                    \n",
            "__________________________________________________________________________________________________\n",
            "dense_1 (Dense)                 (None, 4096)         380928      dense[0][0]                      \n",
            "==================================================================================================\n",
            "Total params: 1,515,704\n",
            "Trainable params: 1,515,704\n",
            "Non-trainable params: 0\n",
            "__________________________________________________________________________________________________\n"
          ],
          "name": "stdout"
        }
      ]
    },
    {
      "cell_type": "code",
      "metadata": {
        "id": "9ZX_ONsILsjQ",
        "colab_type": "code",
        "outputId": "ffdfad69-80eb-4d17-b88f-5f9280650f74",
        "colab": {
          "base_uri": "https://localhost:8080/",
          "height": 88
        }
      },
      "source": [
        "from tensorflow.python.keras.optimizers import Adam \n",
        "autoencoder_img.compile(optimizer=Adam(lr=1e-4),loss=['mean_squared_error','mean_squared_error'])#,loss_weights=[100,8,100,1])"
      ],
      "execution_count": 0,
      "outputs": [
        {
          "output_type": "stream",
          "text": [
            "WARNING:tensorflow:From /usr/local/lib/python3.6/dist-packages/tensorflow/python/keras/utils/losses_utils.py:170: to_float (from tensorflow.python.ops.math_ops) is deprecated and will be removed in a future version.\n",
            "Instructions for updating:\n",
            "Use tf.cast instead.\n"
          ],
          "name": "stdout"
        }
      ]
    },
    {
      "cell_type": "code",
      "metadata": {
        "id": "eaTncBnzTwb9",
        "colab_type": "code",
        "colab": {}
      },
      "source": [
        "from tensorflow.python import keras\n",
        "class callbacker(keras.callbacks.Callback):\n",
        "    def on_epoch_end(self, epoch, logs=None):\n",
        "      print(\"  MAP = {} \".format(calc()))\n",
        "      return calc()"
      ],
      "execution_count": 0,
      "outputs": []
    },
    {
      "cell_type": "code",
      "metadata": {
        "id": "Ib_uUeCYR8ip",
        "colab_type": "code",
        "outputId": "6125e729-91e2-44b0-94cc-c0e062199e44",
        "colab": {
          "base_uri": "https://localhost:8080/",
          "height": 5188
        }
      },
      "source": [
        "callbacked=callbacker()\n",
        "z=autoencoder_img.fit(x_train_img,[x_train_img,p],epochs=150,shuffle=True,batch_size=128,verbose=1)#,callbacks=[callbacked])"
      ],
      "execution_count": 0,
      "outputs": [
        {
          "output_type": "stream",
          "text": [
            "WARNING:tensorflow:From /usr/local/lib/python3.6/dist-packages/tensorflow/python/ops/math_ops.py:3066: to_int32 (from tensorflow.python.ops.math_ops) is deprecated and will be removed in a future version.\n",
            "Instructions for updating:\n",
            "Use tf.cast instead.\n",
            "Epoch 1/150\n",
            "18410/18410 [==============================] - 1s 70us/sample - loss: 23.5855 - dense_1_loss: 1.4538 - dense_loss: 0.1322\n",
            "Epoch 2/150\n",
            "18410/18410 [==============================] - 1s 45us/sample - loss: 7.8220 - dense_1_loss: 1.4507 - dense_loss: 0.0255\n",
            "Epoch 3/150\n",
            "18410/18410 [==============================] - 1s 44us/sample - loss: 2.9733 - dense_1_loss: 1.4355 - dense_loss: 0.0135\n",
            "Epoch 4/150\n",
            "18410/18410 [==============================] - 1s 45us/sample - loss: 1.7329 - dense_1_loss: 1.4219 - dense_loss: 0.0095\n",
            "Epoch 5/150\n",
            "18410/18410 [==============================] - 1s 44us/sample - loss: 1.4667 - dense_1_loss: 1.4096 - dense_loss: 0.0075\n",
            "Epoch 6/150\n",
            "18410/18410 [==============================] - 1s 45us/sample - loss: 1.4125 - dense_1_loss: 1.3979 - dense_loss: 0.0066\n",
            "Epoch 7/150\n",
            "18410/18410 [==============================] - 1s 44us/sample - loss: 1.3956 - dense_1_loss: 1.3873 - dense_loss: 0.0063\n",
            "Epoch 8/150\n",
            "18410/18410 [==============================] - 1s 44us/sample - loss: 1.3846 - dense_1_loss: 1.3769 - dense_loss: 0.0062\n",
            "Epoch 9/150\n",
            "18410/18410 [==============================] - 1s 44us/sample - loss: 1.3748 - dense_1_loss: 1.3671 - dense_loss: 0.0062\n",
            "Epoch 10/150\n",
            "18410/18410 [==============================] - 1s 45us/sample - loss: 1.3656 - dense_1_loss: 1.3579 - dense_loss: 0.0062\n",
            "Epoch 11/150\n",
            "18410/18410 [==============================] - 1s 45us/sample - loss: 1.3568 - dense_1_loss: 1.3491 - dense_loss: 0.0063\n",
            "Epoch 12/150\n",
            "18410/18410 [==============================] - 1s 45us/sample - loss: 1.3485 - dense_1_loss: 1.3407 - dense_loss: 0.0063\n",
            "Epoch 13/150\n",
            "18410/18410 [==============================] - 1s 44us/sample - loss: 1.3406 - dense_1_loss: 1.3326 - dense_loss: 0.0063\n",
            "Epoch 14/150\n",
            "18410/18410 [==============================] - 1s 44us/sample - loss: 1.3330 - dense_1_loss: 1.3253 - dense_loss: 0.0063\n",
            "Epoch 15/150\n",
            "18410/18410 [==============================] - 1s 44us/sample - loss: 1.3259 - dense_1_loss: 1.3180 - dense_loss: 0.0063\n",
            "Epoch 16/150\n",
            "18410/18410 [==============================] - 1s 45us/sample - loss: 1.3191 - dense_1_loss: 1.3112 - dense_loss: 0.0063\n",
            "Epoch 17/150\n",
            "18410/18410 [==============================] - 1s 44us/sample - loss: 1.3127 - dense_1_loss: 1.3048 - dense_loss: 0.0063\n",
            "Epoch 18/150\n",
            "18410/18410 [==============================] - 1s 45us/sample - loss: 1.3065 - dense_1_loss: 1.2984 - dense_loss: 0.0063\n",
            "Epoch 19/150\n",
            "18410/18410 [==============================] - 1s 45us/sample - loss: 1.3007 - dense_1_loss: 1.2928 - dense_loss: 0.0063\n",
            "Epoch 20/150\n",
            "18410/18410 [==============================] - 1s 45us/sample - loss: 1.2952 - dense_1_loss: 1.2872 - dense_loss: 0.0063\n",
            "Epoch 21/150\n",
            "18410/18410 [==============================] - 1s 45us/sample - loss: 1.2900 - dense_1_loss: 1.2819 - dense_loss: 0.0063\n",
            "Epoch 22/150\n",
            "18410/18410 [==============================] - 1s 45us/sample - loss: 1.2851 - dense_1_loss: 1.2770 - dense_loss: 0.0064\n",
            "Epoch 23/150\n",
            "18410/18410 [==============================] - 1s 44us/sample - loss: 1.2805 - dense_1_loss: 1.2725 - dense_loss: 0.0064\n",
            "Epoch 24/150\n",
            "18410/18410 [==============================] - 1s 43us/sample - loss: 1.2761 - dense_1_loss: 1.2680 - dense_loss: 0.0064\n",
            "Epoch 25/150\n",
            "18410/18410 [==============================] - 1s 45us/sample - loss: 1.2720 - dense_1_loss: 1.2638 - dense_loss: 0.0064\n",
            "Epoch 26/150\n",
            "18410/18410 [==============================] - 1s 45us/sample - loss: 1.2681 - dense_1_loss: 1.2599 - dense_loss: 0.0064\n",
            "Epoch 27/150\n",
            "18410/18410 [==============================] - 1s 44us/sample - loss: 1.2645 - dense_1_loss: 1.2562 - dense_loss: 0.0064\n",
            "Epoch 28/150\n",
            "18410/18410 [==============================] - 1s 43us/sample - loss: 1.2611 - dense_1_loss: 1.2528 - dense_loss: 0.0064\n",
            "Epoch 29/150\n",
            "18410/18410 [==============================] - 1s 45us/sample - loss: 1.2579 - dense_1_loss: 1.2496 - dense_loss: 0.0064\n",
            "Epoch 30/150\n",
            "18410/18410 [==============================] - 1s 44us/sample - loss: 1.2549 - dense_1_loss: 1.2466 - dense_loss: 0.0064\n",
            "Epoch 31/150\n",
            "18410/18410 [==============================] - 1s 44us/sample - loss: 1.2521 - dense_1_loss: 1.2437 - dense_loss: 0.0065\n",
            "Epoch 32/150\n",
            "18410/18410 [==============================] - 1s 44us/sample - loss: 1.2495 - dense_1_loss: 1.2411 - dense_loss: 0.0065\n",
            "Epoch 33/150\n",
            "18410/18410 [==============================] - 1s 44us/sample - loss: 1.2470 - dense_1_loss: 1.2386 - dense_loss: 0.0065\n",
            "Epoch 34/150\n",
            "18410/18410 [==============================] - 1s 44us/sample - loss: 1.2447 - dense_1_loss: 1.2363 - dense_loss: 0.0065\n",
            "Epoch 35/150\n",
            "18410/18410 [==============================] - 1s 44us/sample - loss: 1.2427 - dense_1_loss: 1.2342 - dense_loss: 0.0065\n",
            "Epoch 36/150\n",
            "18410/18410 [==============================] - 1s 44us/sample - loss: 1.2407 - dense_1_loss: 1.2323 - dense_loss: 0.0065\n",
            "Epoch 37/150\n",
            "18410/18410 [==============================] - 1s 44us/sample - loss: 1.2389 - dense_1_loss: 1.2305 - dense_loss: 0.0065\n",
            "Epoch 38/150\n",
            "18410/18410 [==============================] - 1s 43us/sample - loss: 1.2373 - dense_1_loss: 1.2289 - dense_loss: 0.0065\n",
            "Epoch 39/150\n",
            "18410/18410 [==============================] - 1s 45us/sample - loss: 1.2357 - dense_1_loss: 1.2272 - dense_loss: 0.0065\n",
            "Epoch 40/150\n",
            "18410/18410 [==============================] - 1s 44us/sample - loss: 1.2343 - dense_1_loss: 1.2259 - dense_loss: 0.0065\n",
            "Epoch 41/150\n",
            "18410/18410 [==============================] - 1s 44us/sample - loss: 1.2330 - dense_1_loss: 1.2244 - dense_loss: 0.0065\n",
            "Epoch 42/150\n",
            "18410/18410 [==============================] - 1s 44us/sample - loss: 1.2318 - dense_1_loss: 1.2233 - dense_loss: 0.0065\n",
            "Epoch 43/150\n",
            "18410/18410 [==============================] - 1s 43us/sample - loss: 1.2308 - dense_1_loss: 1.2222 - dense_loss: 0.0065\n",
            "Epoch 44/150\n",
            "18410/18410 [==============================] - 1s 44us/sample - loss: 1.2298 - dense_1_loss: 1.2213 - dense_loss: 0.0065\n",
            "Epoch 45/150\n",
            "18410/18410 [==============================] - 1s 44us/sample - loss: 1.2289 - dense_1_loss: 1.2204 - dense_loss: 0.0066\n",
            "Epoch 46/150\n",
            "18410/18410 [==============================] - 1s 45us/sample - loss: 1.2281 - dense_1_loss: 1.2196 - dense_loss: 0.0066\n",
            "Epoch 47/150\n",
            "18410/18410 [==============================] - 1s 45us/sample - loss: 1.2273 - dense_1_loss: 1.2188 - dense_loss: 0.0066\n",
            "Epoch 48/150\n",
            "18410/18410 [==============================] - 1s 44us/sample - loss: 1.2267 - dense_1_loss: 1.2180 - dense_loss: 0.0066\n",
            "Epoch 49/150\n",
            "18410/18410 [==============================] - 1s 45us/sample - loss: 1.2260 - dense_1_loss: 1.2174 - dense_loss: 0.0066\n",
            "Epoch 50/150\n",
            "18410/18410 [==============================] - 1s 44us/sample - loss: 1.2255 - dense_1_loss: 1.2169 - dense_loss: 0.0066\n",
            "Epoch 51/150\n",
            "18410/18410 [==============================] - 1s 44us/sample - loss: 1.2250 - dense_1_loss: 1.2163 - dense_loss: 0.0066\n",
            "Epoch 52/150\n",
            "18410/18410 [==============================] - 1s 43us/sample - loss: 1.2246 - dense_1_loss: 1.2159 - dense_loss: 0.0066\n",
            "Epoch 53/150\n",
            "18410/18410 [==============================] - 1s 44us/sample - loss: 1.2242 - dense_1_loss: 1.2156 - dense_loss: 0.0066\n",
            "Epoch 54/150\n",
            "18410/18410 [==============================] - 1s 44us/sample - loss: 1.2238 - dense_1_loss: 1.2151 - dense_loss: 0.0066\n",
            "Epoch 55/150\n",
            "18410/18410 [==============================] - 1s 45us/sample - loss: 1.2235 - dense_1_loss: 1.2149 - dense_loss: 0.0066\n",
            "Epoch 56/150\n",
            "18410/18410 [==============================] - 1s 45us/sample - loss: 1.2232 - dense_1_loss: 1.2146 - dense_loss: 0.0066\n",
            "Epoch 57/150\n",
            "18410/18410 [==============================] - 1s 44us/sample - loss: 1.2230 - dense_1_loss: 1.2143 - dense_loss: 0.0067\n",
            "Epoch 58/150\n",
            "18410/18410 [==============================] - 1s 45us/sample - loss: 1.2228 - dense_1_loss: 1.2141 - dense_loss: 0.0066\n",
            "Epoch 59/150\n",
            "18410/18410 [==============================] - 1s 44us/sample - loss: 1.2226 - dense_1_loss: 1.2139 - dense_loss: 0.0067\n",
            "Epoch 60/150\n",
            "18410/18410 [==============================] - 1s 45us/sample - loss: 1.2224 - dense_1_loss: 1.2138 - dense_loss: 0.0066\n",
            "Epoch 61/150\n",
            "18410/18410 [==============================] - 1s 45us/sample - loss: 1.2222 - dense_1_loss: 1.2136 - dense_loss: 0.0066\n",
            "Epoch 62/150\n",
            "18410/18410 [==============================] - 1s 43us/sample - loss: 1.2221 - dense_1_loss: 1.2134 - dense_loss: 0.0066\n",
            "Epoch 63/150\n",
            "18410/18410 [==============================] - 1s 44us/sample - loss: 1.2219 - dense_1_loss: 1.2133 - dense_loss: 0.0066\n",
            "Epoch 64/150\n",
            "18410/18410 [==============================] - 1s 44us/sample - loss: 1.2219 - dense_1_loss: 1.2131 - dense_loss: 0.0066\n",
            "Epoch 65/150\n",
            "18410/18410 [==============================] - 1s 44us/sample - loss: 1.2218 - dense_1_loss: 1.2132 - dense_loss: 0.0066\n",
            "Epoch 66/150\n",
            "18410/18410 [==============================] - 1s 45us/sample - loss: 1.2217 - dense_1_loss: 1.2131 - dense_loss: 0.0067\n",
            "Epoch 67/150\n",
            "18410/18410 [==============================] - 1s 44us/sample - loss: 1.2216 - dense_1_loss: 1.2130 - dense_loss: 0.0066\n",
            "Epoch 68/150\n",
            "18410/18410 [==============================] - 1s 44us/sample - loss: 1.2216 - dense_1_loss: 1.2129 - dense_loss: 0.0067\n",
            "Epoch 69/150\n",
            "18410/18410 [==============================] - 1s 45us/sample - loss: 1.2215 - dense_1_loss: 1.2129 - dense_loss: 0.0066\n",
            "Epoch 70/150\n",
            "18410/18410 [==============================] - 1s 45us/sample - loss: 1.2215 - dense_1_loss: 1.2128 - dense_loss: 0.0066\n",
            "Epoch 71/150\n",
            "18410/18410 [==============================] - 1s 44us/sample - loss: 1.2214 - dense_1_loss: 1.2128 - dense_loss: 0.0066\n",
            "Epoch 72/150\n",
            "18410/18410 [==============================] - 1s 44us/sample - loss: 1.2214 - dense_1_loss: 1.2128 - dense_loss: 0.0066\n",
            "Epoch 73/150\n",
            "18410/18410 [==============================] - 1s 45us/sample - loss: 1.2213 - dense_1_loss: 1.2127 - dense_loss: 0.0066\n",
            "Epoch 74/150\n",
            "18410/18410 [==============================] - 1s 44us/sample - loss: 1.2213 - dense_1_loss: 1.2127 - dense_loss: 0.0066\n",
            "Epoch 75/150\n",
            "18410/18410 [==============================] - 1s 44us/sample - loss: 1.2213 - dense_1_loss: 1.2126 - dense_loss: 0.0067\n",
            "Epoch 76/150\n",
            "18410/18410 [==============================] - 1s 43us/sample - loss: 1.2213 - dense_1_loss: 1.2126 - dense_loss: 0.0067\n",
            "Epoch 77/150\n",
            "18410/18410 [==============================] - 1s 44us/sample - loss: 1.2213 - dense_1_loss: 1.2127 - dense_loss: 0.0066\n",
            "Epoch 78/150\n",
            "18410/18410 [==============================] - 1s 44us/sample - loss: 1.2213 - dense_1_loss: 1.2127 - dense_loss: 0.0066\n",
            "Epoch 79/150\n",
            "18410/18410 [==============================] - 1s 44us/sample - loss: 1.2213 - dense_1_loss: 1.2126 - dense_loss: 0.0067\n",
            "Epoch 80/150\n",
            "18410/18410 [==============================] - 1s 45us/sample - loss: 1.2212 - dense_1_loss: 1.2125 - dense_loss: 0.0067\n",
            "Epoch 81/150\n",
            "18410/18410 [==============================] - 1s 44us/sample - loss: 1.2212 - dense_1_loss: 1.2127 - dense_loss: 0.0067\n",
            "Epoch 82/150\n",
            "18410/18410 [==============================] - 1s 45us/sample - loss: 1.2212 - dense_1_loss: 1.2127 - dense_loss: 0.0067\n",
            "Epoch 83/150\n",
            "18410/18410 [==============================] - 1s 45us/sample - loss: 1.2212 - dense_1_loss: 1.2125 - dense_loss: 0.0067\n",
            "Epoch 84/150\n",
            "18410/18410 [==============================] - 1s 44us/sample - loss: 1.2212 - dense_1_loss: 1.2125 - dense_loss: 0.0067\n",
            "Epoch 85/150\n",
            "18410/18410 [==============================] - 1s 44us/sample - loss: 1.2212 - dense_1_loss: 1.2125 - dense_loss: 0.0067\n",
            "Epoch 86/150\n",
            "18410/18410 [==============================] - 1s 44us/sample - loss: 1.2212 - dense_1_loss: 1.2126 - dense_loss: 0.0067\n",
            "Epoch 87/150\n",
            "18410/18410 [==============================] - 1s 44us/sample - loss: 1.2212 - dense_1_loss: 1.2126 - dense_loss: 0.0067\n",
            "Epoch 88/150\n",
            "18410/18410 [==============================] - 1s 45us/sample - loss: 1.2212 - dense_1_loss: 1.2126 - dense_loss: 0.0067\n",
            "Epoch 89/150\n",
            "18410/18410 [==============================] - 1s 44us/sample - loss: 1.2212 - dense_1_loss: 1.2125 - dense_loss: 0.0067\n",
            "Epoch 90/150\n",
            "18410/18410 [==============================] - 1s 45us/sample - loss: 1.2212 - dense_1_loss: 1.2126 - dense_loss: 0.0067\n",
            "Epoch 91/150\n",
            "18410/18410 [==============================] - 1s 44us/sample - loss: 1.2212 - dense_1_loss: 1.2126 - dense_loss: 0.0067\n",
            "Epoch 92/150\n",
            "18410/18410 [==============================] - 1s 44us/sample - loss: 1.2212 - dense_1_loss: 1.2124 - dense_loss: 0.0067\n",
            "Epoch 93/150\n",
            "18410/18410 [==============================] - 1s 45us/sample - loss: 1.2212 - dense_1_loss: 1.2126 - dense_loss: 0.0067\n",
            "Epoch 94/150\n",
            "18410/18410 [==============================] - 1s 45us/sample - loss: 1.2212 - dense_1_loss: 1.2126 - dense_loss: 0.0067\n",
            "Epoch 95/150\n",
            "18410/18410 [==============================] - 1s 44us/sample - loss: 1.2212 - dense_1_loss: 1.2125 - dense_loss: 0.0067\n",
            "Epoch 96/150\n",
            "18410/18410 [==============================] - 1s 44us/sample - loss: 1.2212 - dense_1_loss: 1.2126 - dense_loss: 0.0067\n",
            "Epoch 97/150\n",
            "18410/18410 [==============================] - 1s 45us/sample - loss: 1.2212 - dense_1_loss: 1.2125 - dense_loss: 0.0067\n",
            "Epoch 98/150\n",
            "18410/18410 [==============================] - 1s 44us/sample - loss: 1.2212 - dense_1_loss: 1.2125 - dense_loss: 0.0067\n",
            "Epoch 99/150\n",
            "18410/18410 [==============================] - 1s 44us/sample - loss: 1.2212 - dense_1_loss: 1.2125 - dense_loss: 0.0067\n",
            "Epoch 100/150\n",
            "18410/18410 [==============================] - 1s 44us/sample - loss: 1.2212 - dense_1_loss: 1.2124 - dense_loss: 0.0067\n",
            "Epoch 101/150\n",
            "18410/18410 [==============================] - 1s 44us/sample - loss: 1.2212 - dense_1_loss: 1.2126 - dense_loss: 0.0067\n",
            "Epoch 102/150\n",
            "18410/18410 [==============================] - 1s 44us/sample - loss: 1.2212 - dense_1_loss: 1.2126 - dense_loss: 0.0067\n",
            "Epoch 103/150\n",
            "18410/18410 [==============================] - 1s 45us/sample - loss: 1.2212 - dense_1_loss: 1.2125 - dense_loss: 0.0067\n",
            "Epoch 104/150\n",
            "18410/18410 [==============================] - 1s 44us/sample - loss: 1.2212 - dense_1_loss: 1.2125 - dense_loss: 0.0067\n",
            "Epoch 105/150\n",
            "18410/18410 [==============================] - 1s 44us/sample - loss: 1.2212 - dense_1_loss: 1.2126 - dense_loss: 0.0067\n",
            "Epoch 106/150\n",
            "18410/18410 [==============================] - 1s 45us/sample - loss: 1.2212 - dense_1_loss: 1.2126 - dense_loss: 0.0067\n",
            "Epoch 107/150\n",
            "18410/18410 [==============================] - 1s 44us/sample - loss: 1.2212 - dense_1_loss: 1.2126 - dense_loss: 0.0067\n",
            "Epoch 108/150\n",
            "18410/18410 [==============================] - 1s 45us/sample - loss: 1.2212 - dense_1_loss: 1.2126 - dense_loss: 0.0067\n",
            "Epoch 109/150\n",
            "18410/18410 [==============================] - 1s 46us/sample - loss: 1.2212 - dense_1_loss: 1.2125 - dense_loss: 0.0067\n",
            "Epoch 110/150\n",
            "18410/18410 [==============================] - 1s 44us/sample - loss: 1.2212 - dense_1_loss: 1.2125 - dense_loss: 0.0067\n",
            "Epoch 111/150\n",
            "18410/18410 [==============================] - 1s 45us/sample - loss: 1.2212 - dense_1_loss: 1.2126 - dense_loss: 0.0067\n",
            "Epoch 112/150\n",
            "18410/18410 [==============================] - 1s 46us/sample - loss: 1.2212 - dense_1_loss: 1.2126 - dense_loss: 0.0067\n",
            "Epoch 113/150\n",
            "18410/18410 [==============================] - 1s 46us/sample - loss: 1.2212 - dense_1_loss: 1.2126 - dense_loss: 0.0067\n",
            "Epoch 114/150\n",
            "18410/18410 [==============================] - 1s 45us/sample - loss: 1.2212 - dense_1_loss: 1.2126 - dense_loss: 0.0067\n",
            "Epoch 115/150\n",
            "18410/18410 [==============================] - 1s 46us/sample - loss: 1.2212 - dense_1_loss: 1.2125 - dense_loss: 0.0067\n",
            "Epoch 116/150\n",
            "18410/18410 [==============================] - 1s 45us/sample - loss: 1.2212 - dense_1_loss: 1.2126 - dense_loss: 0.0067\n",
            "Epoch 117/150\n",
            "18410/18410 [==============================] - 1s 45us/sample - loss: 1.2212 - dense_1_loss: 1.2125 - dense_loss: 0.0067\n",
            "Epoch 118/150\n",
            "18410/18410 [==============================] - 1s 45us/sample - loss: 1.2212 - dense_1_loss: 1.2125 - dense_loss: 0.0067\n",
            "Epoch 119/150\n",
            "18410/18410 [==============================] - 1s 45us/sample - loss: 1.2212 - dense_1_loss: 1.2124 - dense_loss: 0.0067\n",
            "Epoch 120/150\n",
            "18410/18410 [==============================] - 1s 45us/sample - loss: 1.2212 - dense_1_loss: 1.2126 - dense_loss: 0.0067\n",
            "Epoch 121/150\n",
            "18410/18410 [==============================] - 1s 43us/sample - loss: 1.2212 - dense_1_loss: 1.2127 - dense_loss: 0.0067\n",
            "Epoch 122/150\n",
            "18410/18410 [==============================] - 1s 44us/sample - loss: 1.2212 - dense_1_loss: 1.2125 - dense_loss: 0.0067\n",
            "Epoch 123/150\n",
            "18410/18410 [==============================] - 1s 44us/sample - loss: 1.2212 - dense_1_loss: 1.2126 - dense_loss: 0.0067\n",
            "Epoch 124/150\n",
            "18410/18410 [==============================] - 1s 44us/sample - loss: 1.2212 - dense_1_loss: 1.2126 - dense_loss: 0.0067\n",
            "Epoch 125/150\n",
            "18410/18410 [==============================] - 1s 44us/sample - loss: 1.2212 - dense_1_loss: 1.2125 - dense_loss: 0.0067\n",
            "Epoch 126/150\n",
            "18410/18410 [==============================] - 1s 43us/sample - loss: 1.2212 - dense_1_loss: 1.2125 - dense_loss: 0.0067\n",
            "Epoch 127/150\n",
            "18410/18410 [==============================] - 1s 45us/sample - loss: 1.2212 - dense_1_loss: 1.2125 - dense_loss: 0.0067\n",
            "Epoch 128/150\n",
            "18410/18410 [==============================] - 1s 44us/sample - loss: 1.2212 - dense_1_loss: 1.2126 - dense_loss: 0.0067\n",
            "Epoch 129/150\n",
            "18410/18410 [==============================] - 1s 45us/sample - loss: 1.2212 - dense_1_loss: 1.2125 - dense_loss: 0.0067\n",
            "Epoch 130/150\n",
            "18410/18410 [==============================] - 1s 45us/sample - loss: 1.2212 - dense_1_loss: 1.2126 - dense_loss: 0.0067\n",
            "Epoch 131/150\n",
            "18410/18410 [==============================] - 1s 43us/sample - loss: 1.2212 - dense_1_loss: 1.2126 - dense_loss: 0.0067\n",
            "Epoch 132/150\n",
            "18410/18410 [==============================] - 1s 44us/sample - loss: 1.2212 - dense_1_loss: 1.2124 - dense_loss: 0.0067\n",
            "Epoch 133/150\n",
            "18410/18410 [==============================] - 1s 45us/sample - loss: 1.2212 - dense_1_loss: 1.2125 - dense_loss: 0.0067\n",
            "Epoch 134/150\n",
            "18410/18410 [==============================] - 1s 44us/sample - loss: 1.2212 - dense_1_loss: 1.2125 - dense_loss: 0.0067\n",
            "Epoch 135/150\n",
            "18410/18410 [==============================] - 1s 43us/sample - loss: 1.2212 - dense_1_loss: 1.2126 - dense_loss: 0.0067\n",
            "Epoch 136/150\n",
            "18410/18410 [==============================] - 1s 44us/sample - loss: 1.2212 - dense_1_loss: 1.2126 - dense_loss: 0.0067\n",
            "Epoch 137/150\n",
            "18410/18410 [==============================] - 1s 44us/sample - loss: 1.2212 - dense_1_loss: 1.2126 - dense_loss: 0.0067\n",
            "Epoch 138/150\n",
            "18410/18410 [==============================] - 1s 44us/sample - loss: 1.2212 - dense_1_loss: 1.2126 - dense_loss: 0.0067\n",
            "Epoch 139/150\n",
            "18410/18410 [==============================] - 1s 45us/sample - loss: 1.2212 - dense_1_loss: 1.2125 - dense_loss: 0.0067\n",
            "Epoch 140/150\n",
            "18410/18410 [==============================] - 1s 44us/sample - loss: 1.2212 - dense_1_loss: 1.2125 - dense_loss: 0.0067\n",
            "Epoch 141/150\n",
            "18410/18410 [==============================] - 1s 44us/sample - loss: 1.2212 - dense_1_loss: 1.2125 - dense_loss: 0.0067\n",
            "Epoch 142/150\n",
            "18410/18410 [==============================] - 1s 44us/sample - loss: 1.2212 - dense_1_loss: 1.2126 - dense_loss: 0.0067\n",
            "Epoch 143/150\n",
            "18410/18410 [==============================] - 1s 44us/sample - loss: 1.2212 - dense_1_loss: 1.2125 - dense_loss: 0.0067\n",
            "Epoch 144/150\n",
            "18410/18410 [==============================] - 1s 45us/sample - loss: 1.2212 - dense_1_loss: 1.2125 - dense_loss: 0.0067\n",
            "Epoch 145/150\n",
            "18410/18410 [==============================] - 1s 44us/sample - loss: 1.2212 - dense_1_loss: 1.2125 - dense_loss: 0.0067\n",
            "Epoch 146/150\n",
            "18410/18410 [==============================] - 1s 44us/sample - loss: 1.2212 - dense_1_loss: 1.2125 - dense_loss: 0.0067\n",
            "Epoch 147/150\n",
            "18410/18410 [==============================] - 1s 45us/sample - loss: 1.2212 - dense_1_loss: 1.2125 - dense_loss: 0.0067\n",
            "Epoch 148/150\n",
            "18410/18410 [==============================] - 1s 45us/sample - loss: 1.2212 - dense_1_loss: 1.2127 - dense_loss: 0.0067\n",
            "Epoch 149/150\n",
            "18410/18410 [==============================] - 1s 44us/sample - loss: 1.2212 - dense_1_loss: 1.2125 - dense_loss: 0.0067\n",
            "Epoch 150/150\n",
            "18410/18410 [==============================] - 1s 43us/sample - loss: 1.2212 - dense_1_loss: 1.2126 - dense_loss: 0.0067\n"
          ],
          "name": "stdout"
        }
      ]
    },
    {
      "cell_type": "code",
      "metadata": {
        "id": "1ABdbiUsNVlJ",
        "colab_type": "code",
        "colab": {}
      },
      "source": [
        "autoencoder_skt.compile(optimizer=Adam(lr=1e-4),loss=['mean_squared_error','mean_squared_error'])#,loss_weights=[100,8,100,1])"
      ],
      "execution_count": 0,
      "outputs": []
    },
    {
      "cell_type": "code",
      "metadata": {
        "id": "yh__skXVNVpA",
        "colab_type": "code",
        "outputId": "0fd410ce-3468-4634-8400-7ff08bb58d74",
        "colab": {
          "base_uri": "https://localhost:8080/",
          "height": 5117
        }
      },
      "source": [
        "z=autoencoder_skt.fit(x_train_skt,[x_train_skt,f_one_hot_skt],epochs=150,shuffle=True,batch_size=128,verbose=1)#,callbacks=[callbacked])"
      ],
      "execution_count": 0,
      "outputs": [
        {
          "output_type": "stream",
          "text": [
            "Epoch 1/150\n",
            "5888/5888 [==============================] - 0s 76us/sample - loss: 32.9064 - dense_3_loss: 1.6610 - dense_2_loss: 0.2500\n",
            "Epoch 2/150\n",
            "5888/5888 [==============================] - 0s 45us/sample - loss: 23.4637 - dense_3_loss: 1.6749 - dense_2_loss: 0.0500\n",
            "Epoch 3/150\n",
            "5888/5888 [==============================] - 0s 44us/sample - loss: 16.6220 - dense_3_loss: 1.6746 - dense_2_loss: 0.0360\n",
            "Epoch 4/150\n",
            "5888/5888 [==============================] - 0s 44us/sample - loss: 11.7523 - dense_3_loss: 1.6713 - dense_2_loss: 0.0259\n",
            "Epoch 5/150\n",
            "5888/5888 [==============================] - 0s 48us/sample - loss: 8.3485 - dense_3_loss: 1.6659 - dense_2_loss: 0.0199\n",
            "Epoch 6/150\n",
            "5888/5888 [==============================] - 0s 44us/sample - loss: 6.0124 - dense_3_loss: 1.6600 - dense_2_loss: 0.0163\n",
            "Epoch 7/150\n",
            "5888/5888 [==============================] - 0s 44us/sample - loss: 4.4386 - dense_3_loss: 1.6545 - dense_2_loss: 0.0142\n",
            "Epoch 8/150\n",
            "5888/5888 [==============================] - 0s 43us/sample - loss: 3.3983 - dense_3_loss: 1.6491 - dense_2_loss: 0.0126\n",
            "Epoch 9/150\n",
            "5888/5888 [==============================] - 0s 48us/sample - loss: 2.7237 - dense_3_loss: 1.6440 - dense_2_loss: 0.0115\n",
            "Epoch 10/150\n",
            "5888/5888 [==============================] - 0s 43us/sample - loss: 2.2944 - dense_3_loss: 1.6391 - dense_2_loss: 0.0104\n",
            "Epoch 11/150\n",
            "5888/5888 [==============================] - 0s 44us/sample - loss: 2.0261 - dense_3_loss: 1.6342 - dense_2_loss: 0.0095\n",
            "Epoch 12/150\n",
            "5888/5888 [==============================] - 0s 44us/sample - loss: 1.8612 - dense_3_loss: 1.6295 - dense_2_loss: 0.0089\n",
            "Epoch 13/150\n",
            "5888/5888 [==============================] - 0s 47us/sample - loss: 1.7610 - dense_3_loss: 1.6249 - dense_2_loss: 0.0083\n",
            "Epoch 14/150\n",
            "5888/5888 [==============================] - 0s 43us/sample - loss: 1.7007 - dense_3_loss: 1.6203 - dense_2_loss: 0.0079\n",
            "Epoch 15/150\n",
            "5888/5888 [==============================] - 0s 44us/sample - loss: 1.6642 - dense_3_loss: 1.6159 - dense_2_loss: 0.0076\n",
            "Epoch 16/150\n",
            "5888/5888 [==============================] - 0s 45us/sample - loss: 1.6417 - dense_3_loss: 1.6115 - dense_2_loss: 0.0074\n",
            "Epoch 17/150\n",
            "5888/5888 [==============================] - 0s 46us/sample - loss: 1.6272 - dense_3_loss: 1.6072 - dense_2_loss: 0.0071\n",
            "Epoch 18/150\n",
            "5888/5888 [==============================] - 0s 43us/sample - loss: 1.6174 - dense_3_loss: 1.6029 - dense_2_loss: 0.0069\n",
            "Epoch 19/150\n",
            "5888/5888 [==============================] - 0s 44us/sample - loss: 1.6102 - dense_3_loss: 1.5987 - dense_2_loss: 0.0068\n",
            "Epoch 20/150\n",
            "5888/5888 [==============================] - 0s 44us/sample - loss: 1.6045 - dense_3_loss: 1.5946 - dense_2_loss: 0.0067\n",
            "Epoch 21/150\n",
            "5888/5888 [==============================] - 0s 46us/sample - loss: 1.5995 - dense_3_loss: 1.5905 - dense_2_loss: 0.0067\n",
            "Epoch 22/150\n",
            "5888/5888 [==============================] - 0s 43us/sample - loss: 1.5951 - dense_3_loss: 1.5865 - dense_2_loss: 0.0067\n",
            "Epoch 23/150\n",
            "5888/5888 [==============================] - 0s 44us/sample - loss: 1.5908 - dense_3_loss: 1.5826 - dense_2_loss: 0.0066\n",
            "Epoch 24/150\n",
            "5888/5888 [==============================] - 0s 43us/sample - loss: 1.5868 - dense_3_loss: 1.5787 - dense_2_loss: 0.0066\n",
            "Epoch 25/150\n",
            "5888/5888 [==============================] - 0s 48us/sample - loss: 1.5829 - dense_3_loss: 1.5748 - dense_2_loss: 0.0066\n",
            "Epoch 26/150\n",
            "5888/5888 [==============================] - 0s 44us/sample - loss: 1.5791 - dense_3_loss: 1.5710 - dense_2_loss: 0.0066\n",
            "Epoch 27/150\n",
            "5888/5888 [==============================] - 0s 44us/sample - loss: 1.5753 - dense_3_loss: 1.5673 - dense_2_loss: 0.0066\n",
            "Epoch 28/150\n",
            "5888/5888 [==============================] - 0s 46us/sample - loss: 1.5716 - dense_3_loss: 1.5636 - dense_2_loss: 0.0066\n",
            "Epoch 29/150\n",
            "5888/5888 [==============================] - 0s 44us/sample - loss: 1.5680 - dense_3_loss: 1.5599 - dense_2_loss: 0.0067\n",
            "Epoch 30/150\n",
            "5888/5888 [==============================] - 0s 44us/sample - loss: 1.5643 - dense_3_loss: 1.5563 - dense_2_loss: 0.0066\n",
            "Epoch 31/150\n",
            "5888/5888 [==============================] - 0s 44us/sample - loss: 1.5608 - dense_3_loss: 1.5527 - dense_2_loss: 0.0067\n",
            "Epoch 32/150\n",
            "5888/5888 [==============================] - 0s 47us/sample - loss: 1.5572 - dense_3_loss: 1.5492 - dense_2_loss: 0.0067\n",
            "Epoch 33/150\n",
            "5888/5888 [==============================] - 0s 44us/sample - loss: 1.5538 - dense_3_loss: 1.5457 - dense_2_loss: 0.0067\n",
            "Epoch 34/150\n",
            "5888/5888 [==============================] - 0s 43us/sample - loss: 1.5503 - dense_3_loss: 1.5423 - dense_2_loss: 0.0067\n",
            "Epoch 35/150\n",
            "5888/5888 [==============================] - 0s 45us/sample - loss: 1.5469 - dense_3_loss: 1.5388 - dense_2_loss: 0.0067\n",
            "Epoch 36/150\n",
            "5888/5888 [==============================] - 0s 47us/sample - loss: 1.5436 - dense_3_loss: 1.5355 - dense_2_loss: 0.0067\n",
            "Epoch 37/150\n",
            "5888/5888 [==============================] - 0s 44us/sample - loss: 1.5402 - dense_3_loss: 1.5322 - dense_2_loss: 0.0067\n",
            "Epoch 38/150\n",
            "5888/5888 [==============================] - 0s 43us/sample - loss: 1.5370 - dense_3_loss: 1.5289 - dense_2_loss: 0.0067\n",
            "Epoch 39/150\n",
            "5888/5888 [==============================] - 0s 46us/sample - loss: 1.5337 - dense_3_loss: 1.5256 - dense_2_loss: 0.0067\n",
            "Epoch 40/150\n",
            "5888/5888 [==============================] - 0s 46us/sample - loss: 1.5305 - dense_3_loss: 1.5224 - dense_2_loss: 0.0067\n",
            "Epoch 41/150\n",
            "5888/5888 [==============================] - 0s 43us/sample - loss: 1.5274 - dense_3_loss: 1.5192 - dense_2_loss: 0.0067\n",
            "Epoch 42/150\n",
            "5888/5888 [==============================] - 0s 45us/sample - loss: 1.5242 - dense_3_loss: 1.5161 - dense_2_loss: 0.0067\n",
            "Epoch 43/150\n",
            "5888/5888 [==============================] - 0s 45us/sample - loss: 1.5211 - dense_3_loss: 1.5130 - dense_2_loss: 0.0067\n",
            "Epoch 44/150\n",
            "5888/5888 [==============================] - 0s 46us/sample - loss: 1.5181 - dense_3_loss: 1.5099 - dense_2_loss: 0.0067\n",
            "Epoch 45/150\n",
            "5888/5888 [==============================] - 0s 44us/sample - loss: 1.5150 - dense_3_loss: 1.5069 - dense_2_loss: 0.0067\n",
            "Epoch 46/150\n",
            "5888/5888 [==============================] - 0s 45us/sample - loss: 1.5120 - dense_3_loss: 1.5038 - dense_2_loss: 0.0067\n",
            "Epoch 47/150\n",
            "5888/5888 [==============================] - 0s 44us/sample - loss: 1.5091 - dense_3_loss: 1.5009 - dense_2_loss: 0.0067\n",
            "Epoch 48/150\n",
            "5888/5888 [==============================] - 0s 46us/sample - loss: 1.5061 - dense_3_loss: 1.4979 - dense_2_loss: 0.0067\n",
            "Epoch 49/150\n",
            "5888/5888 [==============================] - 0s 44us/sample - loss: 1.5032 - dense_3_loss: 1.4950 - dense_2_loss: 0.0067\n",
            "Epoch 50/150\n",
            "5888/5888 [==============================] - 0s 44us/sample - loss: 1.5004 - dense_3_loss: 1.4922 - dense_2_loss: 0.0067\n",
            "Epoch 51/150\n",
            "5888/5888 [==============================] - 0s 46us/sample - loss: 1.4975 - dense_3_loss: 1.4893 - dense_2_loss: 0.0067\n",
            "Epoch 52/150\n",
            "5888/5888 [==============================] - 0s 45us/sample - loss: 1.4947 - dense_3_loss: 1.4865 - dense_2_loss: 0.0067\n",
            "Epoch 53/150\n",
            "5888/5888 [==============================] - 0s 46us/sample - loss: 1.4920 - dense_3_loss: 1.4837 - dense_2_loss: 0.0068\n",
            "Epoch 54/150\n",
            "5888/5888 [==============================] - 0s 45us/sample - loss: 1.4892 - dense_3_loss: 1.4810 - dense_2_loss: 0.0067\n",
            "Epoch 55/150\n",
            "5888/5888 [==============================] - 0s 46us/sample - loss: 1.4865 - dense_3_loss: 1.4782 - dense_2_loss: 0.0067\n",
            "Epoch 56/150\n",
            "5888/5888 [==============================] - 0s 44us/sample - loss: 1.4838 - dense_3_loss: 1.4756 - dense_2_loss: 0.0068\n",
            "Epoch 57/150\n",
            "5888/5888 [==============================] - 0s 43us/sample - loss: 1.4812 - dense_3_loss: 1.4729 - dense_2_loss: 0.0068\n",
            "Epoch 58/150\n",
            "5888/5888 [==============================] - 0s 45us/sample - loss: 1.4786 - dense_3_loss: 1.4703 - dense_2_loss: 0.0068\n",
            "Epoch 59/150\n",
            "5888/5888 [==============================] - 0s 47us/sample - loss: 1.4760 - dense_3_loss: 1.4677 - dense_2_loss: 0.0068\n",
            "Epoch 60/150\n",
            "5888/5888 [==============================] - 0s 44us/sample - loss: 1.4734 - dense_3_loss: 1.4651 - dense_2_loss: 0.0068\n",
            "Epoch 61/150\n",
            "5888/5888 [==============================] - 0s 44us/sample - loss: 1.4708 - dense_3_loss: 1.4625 - dense_2_loss: 0.0068\n",
            "Epoch 62/150\n",
            "5888/5888 [==============================] - 0s 44us/sample - loss: 1.4683 - dense_3_loss: 1.4600 - dense_2_loss: 0.0068\n",
            "Epoch 63/150\n",
            "5888/5888 [==============================] - 0s 47us/sample - loss: 1.4659 - dense_3_loss: 1.4575 - dense_2_loss: 0.0068\n",
            "Epoch 64/150\n",
            "5888/5888 [==============================] - 0s 44us/sample - loss: 1.4634 - dense_3_loss: 1.4551 - dense_2_loss: 0.0068\n",
            "Epoch 65/150\n",
            "5888/5888 [==============================] - 0s 45us/sample - loss: 1.4609 - dense_3_loss: 1.4526 - dense_2_loss: 0.0068\n",
            "Epoch 66/150\n",
            "5888/5888 [==============================] - 0s 43us/sample - loss: 1.4585 - dense_3_loss: 1.4502 - dense_2_loss: 0.0068\n",
            "Epoch 67/150\n",
            "5888/5888 [==============================] - 0s 48us/sample - loss: 1.4562 - dense_3_loss: 1.4478 - dense_2_loss: 0.0068\n",
            "Epoch 68/150\n",
            "5888/5888 [==============================] - 0s 45us/sample - loss: 1.4539 - dense_3_loss: 1.4455 - dense_2_loss: 0.0068\n",
            "Epoch 69/150\n",
            "5888/5888 [==============================] - 0s 44us/sample - loss: 1.4515 - dense_3_loss: 1.4431 - dense_2_loss: 0.0068\n",
            "Epoch 70/150\n",
            "5888/5888 [==============================] - 0s 44us/sample - loss: 1.4492 - dense_3_loss: 1.4408 - dense_2_loss: 0.0068\n",
            "Epoch 71/150\n",
            "5888/5888 [==============================] - 0s 45us/sample - loss: 1.4470 - dense_3_loss: 1.4385 - dense_2_loss: 0.0069\n",
            "Epoch 72/150\n",
            "5888/5888 [==============================] - 0s 45us/sample - loss: 1.4447 - dense_3_loss: 1.4363 - dense_2_loss: 0.0068\n",
            "Epoch 73/150\n",
            "5888/5888 [==============================] - 0s 43us/sample - loss: 1.4425 - dense_3_loss: 1.4341 - dense_2_loss: 0.0068\n",
            "Epoch 74/150\n",
            "5888/5888 [==============================] - 0s 45us/sample - loss: 1.4403 - dense_3_loss: 1.4319 - dense_2_loss: 0.0068\n",
            "Epoch 75/150\n",
            "5888/5888 [==============================] - 0s 44us/sample - loss: 1.4381 - dense_3_loss: 1.4297 - dense_2_loss: 0.0068\n",
            "Epoch 76/150\n",
            "5888/5888 [==============================] - 0s 43us/sample - loss: 1.4359 - dense_3_loss: 1.4275 - dense_2_loss: 0.0068\n",
            "Epoch 77/150\n",
            "5888/5888 [==============================] - 0s 44us/sample - loss: 1.4338 - dense_3_loss: 1.4254 - dense_2_loss: 0.0068\n",
            "Epoch 78/150\n",
            "5888/5888 [==============================] - 0s 47us/sample - loss: 1.4317 - dense_3_loss: 1.4233 - dense_2_loss: 0.0068\n",
            "Epoch 79/150\n",
            "5888/5888 [==============================] - 0s 44us/sample - loss: 1.4296 - dense_3_loss: 1.4212 - dense_2_loss: 0.0068\n",
            "Epoch 80/150\n",
            "5888/5888 [==============================] - 0s 44us/sample - loss: 1.4276 - dense_3_loss: 1.4191 - dense_2_loss: 0.0069\n",
            "Epoch 81/150\n",
            "5888/5888 [==============================] - 0s 44us/sample - loss: 1.4256 - dense_3_loss: 1.4171 - dense_2_loss: 0.0069\n",
            "Epoch 82/150\n",
            "5888/5888 [==============================] - 0s 46us/sample - loss: 1.4235 - dense_3_loss: 1.4151 - dense_2_loss: 0.0068\n",
            "Epoch 83/150\n",
            "5888/5888 [==============================] - 0s 44us/sample - loss: 1.4215 - dense_3_loss: 1.4131 - dense_2_loss: 0.0068\n",
            "Epoch 84/150\n",
            "5888/5888 [==============================] - 0s 45us/sample - loss: 1.4196 - dense_3_loss: 1.4111 - dense_2_loss: 0.0069\n",
            "Epoch 85/150\n",
            "5888/5888 [==============================] - 0s 45us/sample - loss: 1.4176 - dense_3_loss: 1.4091 - dense_2_loss: 0.0069\n",
            "Epoch 86/150\n",
            "5888/5888 [==============================] - 0s 46us/sample - loss: 1.4157 - dense_3_loss: 1.4072 - dense_2_loss: 0.0069\n",
            "Epoch 87/150\n",
            "5888/5888 [==============================] - 0s 43us/sample - loss: 1.4138 - dense_3_loss: 1.4053 - dense_2_loss: 0.0069\n",
            "Epoch 88/150\n",
            "5888/5888 [==============================] - 0s 45us/sample - loss: 1.4120 - dense_3_loss: 1.4034 - dense_2_loss: 0.0069\n",
            "Epoch 89/150\n",
            "5888/5888 [==============================] - 0s 43us/sample - loss: 1.4101 - dense_3_loss: 1.4015 - dense_2_loss: 0.0069\n",
            "Epoch 90/150\n",
            "5888/5888 [==============================] - 0s 48us/sample - loss: 1.4082 - dense_3_loss: 1.3997 - dense_2_loss: 0.0069\n",
            "Epoch 91/150\n",
            "5888/5888 [==============================] - 0s 44us/sample - loss: 1.4064 - dense_3_loss: 1.3979 - dense_2_loss: 0.0069\n",
            "Epoch 92/150\n",
            "5888/5888 [==============================] - 0s 44us/sample - loss: 1.4046 - dense_3_loss: 1.3961 - dense_2_loss: 0.0069\n",
            "Epoch 93/150\n",
            "5888/5888 [==============================] - 0s 44us/sample - loss: 1.4029 - dense_3_loss: 1.3943 - dense_2_loss: 0.0069\n",
            "Epoch 94/150\n",
            "5888/5888 [==============================] - 0s 48us/sample - loss: 1.4011 - dense_3_loss: 1.3925 - dense_2_loss: 0.0069\n",
            "Epoch 95/150\n",
            "5888/5888 [==============================] - 0s 44us/sample - loss: 1.3993 - dense_3_loss: 1.3908 - dense_2_loss: 0.0069\n",
            "Epoch 96/150\n",
            "5888/5888 [==============================] - 0s 44us/sample - loss: 1.3976 - dense_3_loss: 1.3891 - dense_2_loss: 0.0069\n",
            "Epoch 97/150\n",
            "5888/5888 [==============================] - 0s 46us/sample - loss: 1.3959 - dense_3_loss: 1.3874 - dense_2_loss: 0.0069\n",
            "Epoch 98/150\n",
            "5888/5888 [==============================] - 0s 45us/sample - loss: 1.3943 - dense_3_loss: 1.3857 - dense_2_loss: 0.0069\n",
            "Epoch 99/150\n",
            "5888/5888 [==============================] - 0s 44us/sample - loss: 1.3926 - dense_3_loss: 1.3840 - dense_2_loss: 0.0069\n",
            "Epoch 100/150\n",
            "5888/5888 [==============================] - 0s 44us/sample - loss: 1.3910 - dense_3_loss: 1.3824 - dense_2_loss: 0.0069\n",
            "Epoch 101/150\n",
            "5888/5888 [==============================] - 0s 48us/sample - loss: 1.3893 - dense_3_loss: 1.3808 - dense_2_loss: 0.0069\n",
            "Epoch 102/150\n",
            "5888/5888 [==============================] - 0s 45us/sample - loss: 1.3878 - dense_3_loss: 1.3792 - dense_2_loss: 0.0070\n",
            "Epoch 103/150\n",
            "5888/5888 [==============================] - 0s 45us/sample - loss: 1.3862 - dense_3_loss: 1.3776 - dense_2_loss: 0.0070\n",
            "Epoch 104/150\n",
            "5888/5888 [==============================] - 0s 44us/sample - loss: 1.3846 - dense_3_loss: 1.3760 - dense_2_loss: 0.0069\n",
            "Epoch 105/150\n",
            "5888/5888 [==============================] - 0s 48us/sample - loss: 1.3831 - dense_3_loss: 1.3745 - dense_2_loss: 0.0070\n",
            "Epoch 106/150\n",
            "5888/5888 [==============================] - 0s 44us/sample - loss: 1.3816 - dense_3_loss: 1.3729 - dense_2_loss: 0.0069\n",
            "Epoch 107/150\n",
            "5888/5888 [==============================] - 0s 44us/sample - loss: 1.3801 - dense_3_loss: 1.3714 - dense_2_loss: 0.0070\n",
            "Epoch 108/150\n",
            "5888/5888 [==============================] - 0s 44us/sample - loss: 1.3786 - dense_3_loss: 1.3699 - dense_2_loss: 0.0070\n",
            "Epoch 109/150\n",
            "5888/5888 [==============================] - 0s 47us/sample - loss: 1.3771 - dense_3_loss: 1.3684 - dense_2_loss: 0.0070\n",
            "Epoch 110/150\n",
            "5888/5888 [==============================] - 0s 45us/sample - loss: 1.3756 - dense_3_loss: 1.3670 - dense_2_loss: 0.0069\n",
            "Epoch 111/150\n",
            "5888/5888 [==============================] - 0s 44us/sample - loss: 1.3742 - dense_3_loss: 1.3655 - dense_2_loss: 0.0070\n",
            "Epoch 112/150\n",
            "5888/5888 [==============================] - 0s 44us/sample - loss: 1.3728 - dense_3_loss: 1.3641 - dense_2_loss: 0.0070\n",
            "Epoch 113/150\n",
            "5888/5888 [==============================] - 0s 48us/sample - loss: 1.3714 - dense_3_loss: 1.3627 - dense_2_loss: 0.0070\n",
            "Epoch 114/150\n",
            "5888/5888 [==============================] - 0s 44us/sample - loss: 1.3700 - dense_3_loss: 1.3613 - dense_2_loss: 0.0070\n",
            "Epoch 115/150\n",
            "5888/5888 [==============================] - 0s 44us/sample - loss: 1.3687 - dense_3_loss: 1.3600 - dense_2_loss: 0.0070\n",
            "Epoch 116/150\n",
            "5888/5888 [==============================] - 0s 44us/sample - loss: 1.3673 - dense_3_loss: 1.3586 - dense_2_loss: 0.0070\n",
            "Epoch 117/150\n",
            "5888/5888 [==============================] - 0s 47us/sample - loss: 1.3659 - dense_3_loss: 1.3573 - dense_2_loss: 0.0070\n",
            "Epoch 118/150\n",
            "5888/5888 [==============================] - 0s 43us/sample - loss: 1.3646 - dense_3_loss: 1.3559 - dense_2_loss: 0.0070\n",
            "Epoch 119/150\n",
            "5888/5888 [==============================] - 0s 44us/sample - loss: 1.3633 - dense_3_loss: 1.3546 - dense_2_loss: 0.0070\n",
            "Epoch 120/150\n",
            "5888/5888 [==============================] - 0s 47us/sample - loss: 1.3620 - dense_3_loss: 1.3533 - dense_2_loss: 0.0070\n",
            "Epoch 121/150\n",
            "5888/5888 [==============================] - 0s 44us/sample - loss: 1.3608 - dense_3_loss: 1.3521 - dense_2_loss: 0.0070\n",
            "Epoch 122/150\n",
            "5888/5888 [==============================] - 0s 44us/sample - loss: 1.3595 - dense_3_loss: 1.3508 - dense_2_loss: 0.0070\n",
            "Epoch 123/150\n",
            "5888/5888 [==============================] - 0s 43us/sample - loss: 1.3583 - dense_3_loss: 1.3496 - dense_2_loss: 0.0070\n",
            "Epoch 124/150\n",
            "5888/5888 [==============================] - 0s 47us/sample - loss: 1.3571 - dense_3_loss: 1.3483 - dense_2_loss: 0.0070\n",
            "Epoch 125/150\n",
            "5888/5888 [==============================] - 0s 44us/sample - loss: 1.3559 - dense_3_loss: 1.3471 - dense_2_loss: 0.0070\n",
            "Epoch 126/150\n",
            "5888/5888 [==============================] - 0s 44us/sample - loss: 1.3546 - dense_3_loss: 1.3459 - dense_2_loss: 0.0070\n",
            "Epoch 127/150\n",
            "5888/5888 [==============================] - 0s 45us/sample - loss: 1.3535 - dense_3_loss: 1.3447 - dense_2_loss: 0.0070\n",
            "Epoch 128/150\n",
            "5888/5888 [==============================] - 0s 47us/sample - loss: 1.3523 - dense_3_loss: 1.3436 - dense_2_loss: 0.0070\n",
            "Epoch 129/150\n",
            "5888/5888 [==============================] - 0s 45us/sample - loss: 1.3512 - dense_3_loss: 1.3424 - dense_2_loss: 0.0070\n",
            "Epoch 130/150\n",
            "5888/5888 [==============================] - 0s 44us/sample - loss: 1.3500 - dense_3_loss: 1.3413 - dense_2_loss: 0.0070\n",
            "Epoch 131/150\n",
            "5888/5888 [==============================] - 0s 44us/sample - loss: 1.3489 - dense_3_loss: 1.3402 - dense_2_loss: 0.0070\n",
            "Epoch 132/150\n",
            "5888/5888 [==============================] - 0s 47us/sample - loss: 1.3479 - dense_3_loss: 1.3391 - dense_2_loss: 0.0071\n",
            "Epoch 133/150\n",
            "5888/5888 [==============================] - 0s 44us/sample - loss: 1.3467 - dense_3_loss: 1.3380 - dense_2_loss: 0.0070\n",
            "Epoch 134/150\n",
            "5888/5888 [==============================] - 0s 43us/sample - loss: 1.3456 - dense_3_loss: 1.3369 - dense_2_loss: 0.0070\n",
            "Epoch 135/150\n",
            "5888/5888 [==============================] - 0s 44us/sample - loss: 1.3446 - dense_3_loss: 1.3358 - dense_2_loss: 0.0070\n",
            "Epoch 136/150\n",
            "5888/5888 [==============================] - 0s 48us/sample - loss: 1.3435 - dense_3_loss: 1.3348 - dense_2_loss: 0.0070\n",
            "Epoch 137/150\n",
            "5888/5888 [==============================] - 0s 44us/sample - loss: 1.3426 - dense_3_loss: 1.3337 - dense_2_loss: 0.0071\n",
            "Epoch 138/150\n",
            "5888/5888 [==============================] - 0s 44us/sample - loss: 1.3415 - dense_3_loss: 1.3327 - dense_2_loss: 0.0070\n",
            "Epoch 139/150\n",
            "5888/5888 [==============================] - 0s 44us/sample - loss: 1.3405 - dense_3_loss: 1.3317 - dense_2_loss: 0.0070\n",
            "Epoch 140/150\n",
            "5888/5888 [==============================] - 0s 48us/sample - loss: 1.3394 - dense_3_loss: 1.3307 - dense_2_loss: 0.0070\n",
            "Epoch 141/150\n",
            "5888/5888 [==============================] - 0s 44us/sample - loss: 1.3385 - dense_3_loss: 1.3297 - dense_2_loss: 0.0070\n",
            "Epoch 142/150\n",
            "5888/5888 [==============================] - 0s 44us/sample - loss: 1.3375 - dense_3_loss: 1.3288 - dense_2_loss: 0.0070\n",
            "Epoch 143/150\n",
            "5888/5888 [==============================] - 0s 46us/sample - loss: 1.3366 - dense_3_loss: 1.3278 - dense_2_loss: 0.0070\n",
            "Epoch 144/150\n",
            "5888/5888 [==============================] - 0s 44us/sample - loss: 1.3357 - dense_3_loss: 1.3269 - dense_2_loss: 0.0070\n",
            "Epoch 145/150\n",
            "5888/5888 [==============================] - 0s 43us/sample - loss: 1.3347 - dense_3_loss: 1.3259 - dense_2_loss: 0.0070\n",
            "Epoch 146/150\n",
            "5888/5888 [==============================] - 0s 44us/sample - loss: 1.3338 - dense_3_loss: 1.3250 - dense_2_loss: 0.0070\n",
            "Epoch 147/150\n",
            "5888/5888 [==============================] - 0s 46us/sample - loss: 1.3329 - dense_3_loss: 1.3241 - dense_2_loss: 0.0070\n",
            "Epoch 148/150\n",
            "5888/5888 [==============================] - 0s 44us/sample - loss: 1.3320 - dense_3_loss: 1.3232 - dense_2_loss: 0.0070\n",
            "Epoch 149/150\n",
            "5888/5888 [==============================] - 0s 45us/sample - loss: 1.3311 - dense_3_loss: 1.3223 - dense_2_loss: 0.0070\n",
            "Epoch 150/150\n",
            "5888/5888 [==============================] - 0s 44us/sample - loss: 1.3302 - dense_3_loss: 1.3215 - dense_2_loss: 0.0070\n"
          ],
          "name": "stdout"
        }
      ]
    },
    {
      "cell_type": "code",
      "metadata": {
        "id": "1OPJpCwtZ-pn",
        "colab_type": "code",
        "colab": {}
      },
      "source": [
        "training_query_skt,training_query_label,z_s=get_skt_data()"
      ],
      "execution_count": 0,
      "outputs": []
    },
    {
      "cell_type": "code",
      "metadata": {
        "id": "4fPus3_8EaKs",
        "colab_type": "code",
        "outputId": "7e8b899d-62c6-4153-d800-9c3612a60c4b",
        "colab": {
          "base_uri": "https://localhost:8080/",
          "height": 51
        }
      },
      "source": [
        "z_s[0]"
      ],
      "execution_count": 0,
      "outputs": [
        {
          "output_type": "execute_result",
          "data": {
            "text/plain": [
              "array([3.903205 , 0.       , 0.       , ..., 0.       , 0.421281 ,\n",
              "       3.5883198], dtype=float32)"
            ]
          },
          "metadata": {
            "tags": []
          },
          "execution_count": 54
        }
      ]
    },
    {
      "cell_type": "code",
      "metadata": {
        "id": "BdeM2a1eEc3b",
        "colab_type": "code",
        "outputId": "376d4f9e-b980-404a-eb92-1b9bd7c5b8cb",
        "colab": {
          "base_uri": "https://localhost:8080/",
          "height": 340
        }
      },
      "source": [
        "training_query_skt[5]"
      ],
      "execution_count": 0,
      "outputs": [
        {
          "output_type": "execute_result",
          "data": {
            "text/plain": [
              "array([0.555003  , 0.        , 0.        , 0.        , 0.        ,\n",
              "       0.        , 0.        , 0.        , 0.        , 0.        ,\n",
              "       0.        , 0.        , 0.        , 0.04083944, 0.        ,\n",
              "       0.        , 0.        , 0.        , 0.        , 0.        ,\n",
              "       0.        , 0.        , 0.        , 0.        , 0.        ,\n",
              "       0.        , 0.        , 0.        , 0.04312199, 0.0334179 ,\n",
              "       0.        , 0.        , 0.        , 0.        , 0.        ,\n",
              "       0.        , 0.        , 0.        , 0.        , 0.        ,\n",
              "       0.        , 0.        , 0.        , 0.        , 0.        ,\n",
              "       0.        , 0.        , 0.        , 0.        , 0.        ,\n",
              "       0.        , 0.        , 0.        , 0.        , 0.        ,\n",
              "       0.0391528 , 0.03251652, 0.        , 0.        , 0.        ,\n",
              "       0.        , 0.        , 0.        , 0.        , 0.        ,\n",
              "       0.        , 0.        , 0.08238696, 0.        , 0.        ,\n",
              "       0.        , 0.        , 0.        , 0.        , 0.        ,\n",
              "       0.        , 0.        , 0.        , 0.        , 0.        ,\n",
              "       0.        , 0.        , 0.08723149, 0.        , 0.        ,\n",
              "       0.        , 0.        , 0.        , 0.        , 0.        ,\n",
              "       0.        , 0.        ], dtype=float32)"
            ]
          },
          "metadata": {
            "tags": []
          },
          "execution_count": 55
        }
      ]
    },
    {
      "cell_type": "code",
      "metadata": {
        "id": "bDZ0IPnohwF9",
        "colab_type": "code",
        "colab": {}
      },
      "source": [
        "training_search_img,training_search_img_label,z_i=get_img_data()"
      ],
      "execution_count": 0,
      "outputs": []
    },
    {
      "cell_type": "code",
      "metadata": {
        "id": "_O1FuwrnEleH",
        "colab_type": "code",
        "outputId": "f4eed0f6-0e03-42fb-a338-e3107bfc3912",
        "colab": {
          "base_uri": "https://localhost:8080/",
          "height": 34
        }
      },
      "source": [
        "training_search_img.shape"
      ],
      "execution_count": 0,
      "outputs": [
        {
          "output_type": "execute_result",
          "data": {
            "text/plain": [
              "(18410, 92)"
            ]
          },
          "metadata": {
            "tags": []
          },
          "execution_count": 57
        }
      ]
    },
    {
      "cell_type": "code",
      "metadata": {
        "id": "T0i-uxhnElg9",
        "colab_type": "code",
        "outputId": "67fdde9e-330e-4da5-d411-c59f374d0dfc",
        "colab": {
          "base_uri": "https://localhost:8080/",
          "height": 34
        }
      },
      "source": [
        "training_search_img_label[200]"
      ],
      "execution_count": 0,
      "outputs": [
        {
          "output_type": "execute_result",
          "data": {
            "text/plain": [
              "array([1])"
            ]
          },
          "metadata": {
            "tags": []
          },
          "execution_count": 58
        }
      ]
    },
    {
      "cell_type": "code",
      "metadata": {
        "id": "FksuAlMYj9xU",
        "colab_type": "code",
        "outputId": "d66923e6-6530-4dc3-a268-b91d3737f1fb",
        "colab": {
          "base_uri": "https://localhost:8080/",
          "height": 34
        }
      },
      "source": [
        "eval_MAP_K(training_query_skt,training_search_img,training_query_label,training_search_img_label,100)"
      ],
      "execution_count": 0,
      "outputs": [
        {
          "output_type": "execute_result",
          "data": {
            "text/plain": [
              "0.5091247276138376"
            ]
          },
          "metadata": {
            "tags": []
          },
          "execution_count": 60
        }
      ]
    },
    {
      "cell_type": "code",
      "metadata": {
        "id": "W_I-IsEnk0WS",
        "colab_type": "code",
        "colab": {}
      },
      "source": [
        ""
      ],
      "execution_count": 0,
      "outputs": []
    }
  ]
}