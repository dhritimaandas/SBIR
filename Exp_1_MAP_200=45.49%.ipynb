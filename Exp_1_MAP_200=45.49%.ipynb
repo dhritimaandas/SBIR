{
  "nbformat": 4,
  "nbformat_minor": 0,
  "metadata": {
    "colab": {
      "name": "Exp-1 MAP@200-45.49%.ipynb",
      "version": "0.3.2",
      "provenance": [],
      "collapsed_sections": []
    },
    "kernelspec": {
      "name": "python3",
      "display_name": "Python 3"
    },
    "accelerator": "GPU"
  },
  "cells": [
    {
      "cell_type": "code",
      "metadata": {
        "id": "lvW9GfWPI4hC",
        "colab_type": "code",
        "outputId": "19ffcb27-1ec9-41f7-b5fe-9d52e30a967d",
        "colab": {
          "base_uri": "https://localhost:8080/",
          "height": 34
        }
      },
      "source": [
        "from google.colab import drive\n",
        "drive.mount('/content/gdrive')"
      ],
      "execution_count": 0,
      "outputs": [
        {
          "output_type": "stream",
          "text": [
            "Drive already mounted at /content/gdrive; to attempt to forcibly remount, call drive.mount(\"/content/gdrive\", force_remount=True).\n"
          ],
          "name": "stdout"
        }
      ]
    },
    {
      "cell_type": "code",
      "metadata": {
        "id": "zJQB545WWDM-",
        "colab_type": "code",
        "colab": {}
      },
      "source": [
        "from scipy.spatial.distance import cdist\n",
        "def eval_MAP_K(query_set, search_set, query_label, search_set_label, K):\n",
        "    query_class_arr = query_set\n",
        "    search_set_class_arr = search_set\n",
        "    query_label_arr = query_label\n",
        "    query_label_arr.astype(int)\n",
        "    search_set_label_arr = search_set_label\n",
        "    search_set_label_arr.astype(int)\n",
        "    num_query_sample = query_label_arr.shape[0]\n",
        "    dist_q_search_class = cdist(query_class_arr,search_set_class_arr,metric='euclidean')\n",
        "    AP=0\n",
        "    pre=0\n",
        "    for query_count in range(0,num_query_sample):\n",
        "      actual_label = query_label_arr[query_count]\n",
        "      value=dist_q_search_class[query_count,:]\n",
        "      sorted_value_idx=value.argsort()\n",
        "      predicted_K_label = search_set_label_arr[sorted_value_idx[0:K]]\n",
        "      L=np.sum((np.in1d(predicted_K_label,actual_label)).astype(int))\n",
        "      P=0\n",
        "      for r in range(0,K):\n",
        "        rtr_label_r = predicted_K_label[:(r+1)]\n",
        "        l=np.sum((np.in1d(rtr_label_r,actual_label)).astype(int))\n",
        "        precision=l/(r+1)\n",
        "        if actual_label==predicted_K_label[r]:\n",
        "          delta=1\n",
        "        else:\n",
        "          delta=0\n",
        "        P=P+(precision*delta)\n",
        "      if L!=0:\n",
        "        AP=AP+((1/L)*P)\n",
        "    map_K=AP/num_query_sample\n",
        "    return map_K"
      ],
      "execution_count": 0,
      "outputs": []
    },
    {
      "cell_type": "code",
      "metadata": {
        "id": "sxbynuycWDP1",
        "colab_type": "code",
        "colab": {}
      },
      "source": [
        "def get_skt_data():\n",
        "  training_query_skt=[]\n",
        "  training_query_label=[]\n",
        "  z_s=[]\n",
        "  q=0\n",
        "  z=0\n",
        "  for skt_fea in x_train_skt:\n",
        "    z_s.append(skt_fea)\n",
        "    training_query_skt.append(encoder_skt.predict(skt_fea.reshape(4096,1).transpose()))\n",
        "    training_query_label.append(q)\n",
        "    z=z+1\n",
        "    if z%64 ==0:\n",
        "      q=q+1\n",
        "  return np.squeeze(np.asarray(training_query_skt)),np.asarray(training_query_label).reshape(5888,1),z_s"
      ],
      "execution_count": 0,
      "outputs": []
    },
    {
      "cell_type": "code",
      "metadata": {
        "id": "LUWdXm1YWDSu",
        "colab_type": "code",
        "colab": {}
      },
      "source": [
        "def get_img_data():\n",
        "  training_search_img=[]\n",
        "  training_search_img_label=[]\n",
        "  z_i=[]\n",
        "  p=0\n",
        "  z=0\n",
        "  for img_fea in x_train_img:\n",
        "    z_i.append(img_fea)\n",
        "    training_search_img.append(encoder_img.predict(img_fea.reshape(4096,1).transpose()))\n",
        "    training_search_img_label.append(p)\n",
        "    z=z+1\n",
        "    if z%64 == 0:\n",
        "      p=p+1\n",
        "  return np.squeeze(np.asarray(training_search_img)),np.asarray(training_search_img_label).reshape(5888,1),z_i"
      ],
      "execution_count": 0,
      "outputs": []
    },
    {
      "cell_type": "code",
      "metadata": {
        "id": "1cahxkHtakz_",
        "colab_type": "code",
        "colab": {}
      },
      "source": [
        "#z=np.where(x_train_skt==x_train_skt[0])"
      ],
      "execution_count": 0,
      "outputs": []
    },
    {
      "cell_type": "code",
      "metadata": {
        "id": "KyoyvT5mWDLJ",
        "colab_type": "code",
        "colab": {}
      },
      "source": [
        "def calc():\n",
        "  training_query_skt,training_query_label,z_s=get_skt_data()\n",
        "  training_search_img,training_search_img_label,z_i=get_img_data()\n",
        "  return eval_MAP_K(training_query_skt,training_search_img,training_query_label,training_search_img_label,200)"
      ],
      "execution_count": 0,
      "outputs": []
    },
    {
      "cell_type": "code",
      "metadata": {
        "id": "_FLAGc6HL6Ym",
        "colab_type": "code",
        "colab": {}
      },
      "source": [
        "import os\n",
        "import numpy as np\n",
        "dictionary={}\n",
        "training_files='/content/gdrive/My Drive/Feature_Vectors/Sketchs/Training'\n",
        "labels=os.listdir(training_files)\n",
        "labels.sort()\n",
        "x_train_skt=[]\n",
        "y_train=[]\n",
        "y_t=[]\n",
        "a=0\n",
        "for label in labels:\n",
        "  skt_fea_names=os.listdir(os.path.join(training_files,label))\n",
        "  for skt in skt_fea_names:\n",
        "    skt_fea_path=os.path.join(training_files,label,skt)\n",
        "    skt_fea=np.load(skt_fea_path)\n",
        "    x_train_skt.append(skt_fea)\n",
        "    y_t.append(a)\n",
        "    y_train.append(label)\n",
        "    a=a+1\n",
        "x_train_skt=np.asarray(x_train_skt)"
      ],
      "execution_count": 0,
      "outputs": []
    },
    {
      "cell_type": "code",
      "metadata": {
        "id": "V19UtzfPREak",
        "colab_type": "code",
        "colab": {}
      },
      "source": [
        "from sklearn.preprocessing import OneHotEncoder\n",
        "ohe_skt=OneHotEncoder()\n",
        "one_hot_skt=ohe_skt.fit_transform(np.asarray(y_train).reshape(92,64))\n",
        "one_hot_skt=one_hot_skt.toarray()\n",
        "one_hot_skt=one_hot_skt.transpose()"
      ],
      "execution_count": 0,
      "outputs": []
    },
    {
      "cell_type": "code",
      "metadata": {
        "id": "ZHzkYYY7L6cG",
        "colab_type": "code",
        "colab": {}
      },
      "source": [
        "img_training_files='/content/gdrive/My Drive/Feature_Vectors/Image/Training'\n",
        "labels=os.listdir(img_training_files)\n",
        "labels.sort()\n",
        "x_train_img=[]\n",
        "y_train_img=[]\n",
        "y_t_i=[]\n",
        "b=0\n",
        "for label in labels:\n",
        "  img_names=os.listdir(os.path.join(img_training_files,label))\n",
        "  for img in img_names:\n",
        "    img_fea_path=os.path.join(img_training_files,label,img)\n",
        "    img_fea=np.load(img_fea_path)\n",
        "    x_train_img.append(img_fea)\n",
        "    y_t_i.append(b)\n",
        "    y_train_img.append(label)\n",
        "    b=b+1\n",
        "x_train_img=np.asarray(x_train_img)"
      ],
      "execution_count": 0,
      "outputs": []
    },
    {
      "cell_type": "code",
      "metadata": {
        "id": "eeEq6y22HaNZ",
        "colab_type": "code",
        "colab": {}
      },
      "source": [
        "import pandas as pd"
      ],
      "execution_count": 0,
      "outputs": []
    },
    {
      "cell_type": "code",
      "metadata": {
        "id": "c99xKsgeFOxy",
        "colab_type": "code",
        "colab": {}
      },
      "source": [
        "temp=pd.DataFrame(y_train_img)"
      ],
      "execution_count": 0,
      "outputs": []
    },
    {
      "cell_type": "code",
      "metadata": {
        "id": "u_E3AZujHiTG",
        "colab_type": "code",
        "colab": {}
      },
      "source": [
        "unique_labels=temp[0].unique()"
      ],
      "execution_count": 0,
      "outputs": []
    },
    {
      "cell_type": "code",
      "metadata": {
        "id": "ofjzUeo4Hu-s",
        "colab_type": "code",
        "colab": {}
      },
      "source": [
        "unique_labels.sort()"
      ],
      "execution_count": 0,
      "outputs": []
    },
    {
      "cell_type": "code",
      "metadata": {
        "id": "FI3KIAozHy4P",
        "colab_type": "code",
        "colab": {}
      },
      "source": [
        "a=unique_labels.reshape(92,1)"
      ],
      "execution_count": 0,
      "outputs": []
    },
    {
      "cell_type": "code",
      "metadata": {
        "id": "yEie2TI1L6XV",
        "colab_type": "code",
        "colab": {}
      },
      "source": [
        "ohe_img=OneHotEncoder()\n",
        "one_hot_img=ohe_img.fit_transform(a)\n",
        "one_hot_img=one_hot_img.toarray()\n",
        "one_hot_img=one_hot_img.transpose()"
      ],
      "execution_count": 0,
      "outputs": []
    },
    {
      "cell_type": "code",
      "metadata": {
        "id": "DLwVspPnE7zi",
        "colab_type": "code",
        "outputId": "135d1aa9-de4c-4323-aa75-81b087b2af44",
        "colab": {
          "base_uri": "https://localhost:8080/",
          "height": 34
        }
      },
      "source": [
        "one_hot_img.shape"
      ],
      "execution_count": 0,
      "outputs": [
        {
          "output_type": "execute_result",
          "data": {
            "text/plain": [
              "(92, 92)"
            ]
          },
          "metadata": {
            "tags": []
          },
          "execution_count": 15
        }
      ]
    },
    {
      "cell_type": "code",
      "metadata": {
        "id": "tQlmAAgfIEUW",
        "colab_type": "code",
        "colab": {}
      },
      "source": [
        "f=[]\n",
        "for row in one_hot_img:\n",
        "   for i in range(64):\n",
        "    f.append(row)"
      ],
      "execution_count": 0,
      "outputs": []
    },
    {
      "cell_type": "code",
      "metadata": {
        "id": "t7t1elmCIYgn",
        "colab_type": "code",
        "colab": {}
      },
      "source": [
        "f=np.asarray(f)"
      ],
      "execution_count": 0,
      "outputs": []
    },
    {
      "cell_type": "code",
      "metadata": {
        "id": "ZrTTbStsIe-n",
        "colab_type": "code",
        "outputId": "d53668d8-f07b-43cc-e3ef-db72577f6d49",
        "colab": {
          "base_uri": "https://localhost:8080/",
          "height": 119
        }
      },
      "source": [
        "f[5887]"
      ],
      "execution_count": 0,
      "outputs": [
        {
          "output_type": "execute_result",
          "data": {
            "text/plain": [
              "array([0., 0., 0., 0., 0., 0., 0., 0., 0., 0., 0., 0., 0., 0., 0., 0., 0.,\n",
              "       0., 0., 0., 0., 0., 0., 0., 0., 0., 0., 0., 0., 0., 0., 0., 0., 0.,\n",
              "       0., 0., 0., 0., 0., 0., 0., 0., 0., 0., 0., 0., 0., 0., 0., 0., 0.,\n",
              "       0., 0., 0., 0., 0., 0., 0., 0., 0., 0., 0., 0., 0., 0., 0., 0., 0.,\n",
              "       0., 0., 0., 0., 0., 0., 0., 0., 0., 0., 0., 0., 0., 0., 0., 0., 0.,\n",
              "       0., 0., 0., 0., 0., 0., 1.])"
            ]
          },
          "metadata": {
            "tags": []
          },
          "execution_count": 18
        }
      ]
    },
    {
      "cell_type": "code",
      "metadata": {
        "id": "I8_xH90FE_7n",
        "colab_type": "code",
        "outputId": "d7bdddc1-e3a9-456f-a516-a108646f7d44",
        "colab": {
          "base_uri": "https://localhost:8080/",
          "height": 34
        }
      },
      "source": [
        "one_hot_skt.shape"
      ],
      "execution_count": 0,
      "outputs": [
        {
          "output_type": "execute_result",
          "data": {
            "text/plain": [
              "(5888, 92)"
            ]
          },
          "metadata": {
            "tags": []
          },
          "execution_count": 19
        }
      ]
    },
    {
      "cell_type": "code",
      "metadata": {
        "id": "v4HN8P7DJ5if",
        "colab_type": "code",
        "colab": {}
      },
      "source": [
        "from tensorflow.python.keras.layers import Input, Dense\n",
        "from tensorflow.python.keras.models import Model\n",
        "from tensorflow.python.keras import regularizers"
      ],
      "execution_count": 0,
      "outputs": []
    },
    {
      "cell_type": "code",
      "metadata": {
        "id": "CJGCb4R2JQ6B",
        "colab_type": "code",
        "outputId": "6fd987ab-d0e5-4a8f-d22a-02fae6c1dc35",
        "colab": {
          "base_uri": "https://localhost:8080/",
          "height": 88
        }
      },
      "source": [
        "input_img = Input(shape=(4096,))\n",
        "# \"encoded\" is the encoded representation of the input\n",
        "encoded_img = Dense(92, activation='relu', kernel_regularizer=regularizers.l2(0.1))(input_img)\n",
        "# \"decoded\" is the lossy reconstruction of the input\n",
        "decoded_img = Dense(4096,activation='relu', kernel_regularizer=regularizers.l2(0.1))(encoded_img)\n",
        "\n",
        "# this model maps an input to its reconstruction\n",
        "autoencoder_img = Model(input_img, [decoded_img,encoded_img])"
      ],
      "execution_count": 0,
      "outputs": [
        {
          "output_type": "stream",
          "text": [
            "WARNING:tensorflow:From /usr/local/lib/python3.6/dist-packages/tensorflow/python/ops/resource_variable_ops.py:435: colocate_with (from tensorflow.python.framework.ops) is deprecated and will be removed in a future version.\n",
            "Instructions for updating:\n",
            "Colocations handled automatically by placer.\n"
          ],
          "name": "stdout"
        }
      ]
    },
    {
      "cell_type": "code",
      "metadata": {
        "id": "2GtH6SEmKiKI",
        "colab_type": "code",
        "colab": {}
      },
      "source": [
        "encoder_img = Model(input_img, encoded_img)"
      ],
      "execution_count": 0,
      "outputs": []
    },
    {
      "cell_type": "code",
      "metadata": {
        "id": "X7hnGpE6K44j",
        "colab_type": "code",
        "outputId": "dfdc5761-380c-4451-d960-0408b9623448",
        "colab": {
          "base_uri": "https://localhost:8080/",
          "height": 238
        }
      },
      "source": [
        "autoencoder_img.summary()"
      ],
      "execution_count": 0,
      "outputs": [
        {
          "output_type": "stream",
          "text": [
            "_________________________________________________________________\n",
            "Layer (type)                 Output Shape              Param #   \n",
            "=================================================================\n",
            "input_1 (InputLayer)         (None, 4096)              0         \n",
            "_________________________________________________________________\n",
            "dense (Dense)                (None, 92)                376924    \n",
            "_________________________________________________________________\n",
            "dense_1 (Dense)              (None, 4096)              380928    \n",
            "=================================================================\n",
            "Total params: 757,852\n",
            "Trainable params: 757,852\n",
            "Non-trainable params: 0\n",
            "_________________________________________________________________\n"
          ],
          "name": "stdout"
        }
      ]
    },
    {
      "cell_type": "code",
      "metadata": {
        "id": "txCDACq_LXW3",
        "colab_type": "code",
        "outputId": "7eaef2c0-5f7e-498a-e3bf-7e6913354a84",
        "colab": {
          "base_uri": "https://localhost:8080/",
          "height": 204
        }
      },
      "source": [
        "encoder_img.summary()"
      ],
      "execution_count": 0,
      "outputs": [
        {
          "output_type": "stream",
          "text": [
            "_________________________________________________________________\n",
            "Layer (type)                 Output Shape              Param #   \n",
            "=================================================================\n",
            "input_1 (InputLayer)         (None, 4096)              0         \n",
            "_________________________________________________________________\n",
            "dense (Dense)                (None, 92)                376924    \n",
            "=================================================================\n",
            "Total params: 376,924\n",
            "Trainable params: 376,924\n",
            "Non-trainable params: 0\n",
            "_________________________________________________________________\n"
          ],
          "name": "stdout"
        }
      ]
    },
    {
      "cell_type": "code",
      "metadata": {
        "id": "tfvt0o1WK7lj",
        "colab_type": "code",
        "colab": {}
      },
      "source": [
        "input_skt = Input(shape=(4096,))\n",
        "# \"encoded\" is the encoded representation of the input\n",
        "encoded_skt = Dense(92,activation='relu',kernel_regularizer=regularizers.l2(0.1))(input_skt)\n",
        "# \"decoded\" is the lossy reconstruction of the input\n",
        "decoded_skt = Dense(4096, activation='relu', kernel_regularizer=regularizers.l2(0.1))(encoded_skt)\n",
        "\n",
        "# this model maps an input to its reconstruction\n",
        "autoencoder_skt = Model(input_skt, [decoded_skt,encoded_skt])"
      ],
      "execution_count": 0,
      "outputs": []
    },
    {
      "cell_type": "code",
      "metadata": {
        "id": "S5dWJB8pK93m",
        "colab_type": "code",
        "colab": {}
      },
      "source": [
        "encoder_skt = Model(input_skt, encoded_skt)"
      ],
      "execution_count": 0,
      "outputs": []
    },
    {
      "cell_type": "code",
      "metadata": {
        "id": "UnWexYwSLQN7",
        "colab_type": "code",
        "outputId": "b95d51f0-62ca-4036-9f81-3c7afbf4d3e2",
        "colab": {
          "base_uri": "https://localhost:8080/",
          "height": 238
        }
      },
      "source": [
        "autoencoder_skt.summary()"
      ],
      "execution_count": 0,
      "outputs": [
        {
          "output_type": "stream",
          "text": [
            "_________________________________________________________________\n",
            "Layer (type)                 Output Shape              Param #   \n",
            "=================================================================\n",
            "input_2 (InputLayer)         (None, 4096)              0         \n",
            "_________________________________________________________________\n",
            "dense_2 (Dense)              (None, 92)                376924    \n",
            "_________________________________________________________________\n",
            "dense_3 (Dense)              (None, 4096)              380928    \n",
            "=================================================================\n",
            "Total params: 757,852\n",
            "Trainable params: 757,852\n",
            "Non-trainable params: 0\n",
            "_________________________________________________________________\n"
          ],
          "name": "stdout"
        }
      ]
    },
    {
      "cell_type": "code",
      "metadata": {
        "id": "5vmlmts6LS33",
        "colab_type": "code",
        "colab": {}
      },
      "source": [
        "parllel=Model([input_skt,input_img],[decoded_skt,encoded_skt,decoded_img,encoded_img])"
      ],
      "execution_count": 0,
      "outputs": []
    },
    {
      "cell_type": "code",
      "metadata": {
        "id": "nQLRvo1lLqaY",
        "colab_type": "code",
        "outputId": "d0865548-4b57-4b40-c1fc-8d3ed436b16d",
        "colab": {
          "base_uri": "https://localhost:8080/",
          "height": 340
        }
      },
      "source": [
        "parllel.summary()"
      ],
      "execution_count": 0,
      "outputs": [
        {
          "output_type": "stream",
          "text": [
            "__________________________________________________________________________________________________\n",
            "Layer (type)                    Output Shape         Param #     Connected to                     \n",
            "==================================================================================================\n",
            "input_2 (InputLayer)            (None, 4096)         0                                            \n",
            "__________________________________________________________________________________________________\n",
            "input_1 (InputLayer)            (None, 4096)         0                                            \n",
            "__________________________________________________________________________________________________\n",
            "dense_2 (Dense)                 (None, 92)           376924      input_2[0][0]                    \n",
            "__________________________________________________________________________________________________\n",
            "dense (Dense)                   (None, 92)           376924      input_1[0][0]                    \n",
            "__________________________________________________________________________________________________\n",
            "dense_3 (Dense)                 (None, 4096)         380928      dense_2[0][0]                    \n",
            "__________________________________________________________________________________________________\n",
            "dense_1 (Dense)                 (None, 4096)         380928      dense[0][0]                      \n",
            "==================================================================================================\n",
            "Total params: 1,515,704\n",
            "Trainable params: 1,515,704\n",
            "Non-trainable params: 0\n",
            "__________________________________________________________________________________________________\n"
          ],
          "name": "stdout"
        }
      ]
    },
    {
      "cell_type": "code",
      "metadata": {
        "id": "9ZX_ONsILsjQ",
        "colab_type": "code",
        "outputId": "eb5b28f9-4b94-45bc-b460-74cf06c95b7b",
        "colab": {
          "base_uri": "https://localhost:8080/",
          "height": 88
        }
      },
      "source": [
        "from tensorflow.python.keras.optimizers import Adam \n",
        "parllel.compile(optimizer=Adam(lr=1e-4),loss=['mean_squared_error','mean_squared_error','mean_squared_error','mean_squared_error'])#,loss_weights=[100,8,100,1])"
      ],
      "execution_count": 0,
      "outputs": [
        {
          "output_type": "stream",
          "text": [
            "WARNING:tensorflow:From /usr/local/lib/python3.6/dist-packages/tensorflow/python/keras/utils/losses_utils.py:170: to_float (from tensorflow.python.ops.math_ops) is deprecated and will be removed in a future version.\n",
            "Instructions for updating:\n",
            "Use tf.cast instead.\n"
          ],
          "name": "stdout"
        }
      ]
    },
    {
      "cell_type": "code",
      "metadata": {
        "id": "eaTncBnzTwb9",
        "colab_type": "code",
        "colab": {}
      },
      "source": [
        "from tensorflow.python import keras\n",
        "class callbacker(keras.callbacks.Callback):\n",
        "    def on_epoch_end(self, epoch, logs=None):\n",
        "      print(\"  MAP = {} \".format(calc()))\n",
        "      return calc()"
      ],
      "execution_count": 0,
      "outputs": []
    },
    {
      "cell_type": "code",
      "metadata": {
        "id": "Ib_uUeCYR8ip",
        "colab_type": "code",
        "outputId": "9be44d58-e462-47a4-9a7f-3c0c3508676c",
        "colab": {
          "base_uri": "https://localhost:8080/",
          "height": 5188
        }
      },
      "source": [
        "callbacked=callbacker()\n",
        "z=parllel.fit([x_train_skt,x_train_img],[x_train_skt,f,x_train_img,f],epochs=150,shuffle=True,batch_size=128,verbose=1)#,callbacks=[callbacked])"
      ],
      "execution_count": 0,
      "outputs": [
        {
          "output_type": "stream",
          "text": [
            "WARNING:tensorflow:From /usr/local/lib/python3.6/dist-packages/tensorflow/python/ops/math_ops.py:3066: to_int32 (from tensorflow.python.ops.math_ops) is deprecated and will be removed in a future version.\n",
            "Instructions for updating:\n",
            "Use tf.cast instead.\n",
            "Epoch 1/150\n",
            "5888/5888 [==============================] - 1s 203us/sample - loss: 66.8772 - dense_3_loss: 1.6614 - dense_2_loss: 0.2528 - dense_1_loss: 2.1951 - dense_loss: 0.3328\n",
            "Epoch 2/150\n",
            "5888/5888 [==============================] - 1s 89us/sample - loss: 48.0992 - dense_3_loss: 1.6749 - dense_2_loss: 0.0503 - dense_1_loss: 2.2131 - dense_loss: 0.0645\n",
            "Epoch 3/150\n",
            "5888/5888 [==============================] - 1s 85us/sample - loss: 34.3703 - dense_3_loss: 1.6746 - dense_2_loss: 0.0366 - dense_1_loss: 2.2135 - dense_loss: 0.0455\n",
            "Epoch 4/150\n",
            "5888/5888 [==============================] - 1s 85us/sample - loss: 24.5314 - dense_3_loss: 1.6713 - dense_2_loss: 0.0259 - dense_1_loss: 2.2105 - dense_loss: 0.0321\n",
            "Epoch 5/150\n",
            "5888/5888 [==============================] - 1s 86us/sample - loss: 17.6173 - dense_3_loss: 1.6659 - dense_2_loss: 0.0199 - dense_1_loss: 2.2049 - dense_loss: 0.0234\n",
            "Epoch 6/150\n",
            "5888/5888 [==============================] - 0s 81us/sample - loss: 12.8493 - dense_3_loss: 1.6600 - dense_2_loss: 0.0165 - dense_1_loss: 2.1984 - dense_loss: 0.0185\n",
            "Epoch 7/150\n",
            "5888/5888 [==============================] - 0s 80us/sample - loss: 9.6230 - dense_3_loss: 1.6544 - dense_2_loss: 0.0143 - dense_1_loss: 2.1921 - dense_loss: 0.0155\n",
            "Epoch 8/150\n",
            "5888/5888 [==============================] - 1s 86us/sample - loss: 7.4809 - dense_3_loss: 1.6491 - dense_2_loss: 0.0127 - dense_1_loss: 2.1861 - dense_loss: 0.0132\n",
            "Epoch 9/150\n",
            "5888/5888 [==============================] - 0s 82us/sample - loss: 6.0853 - dense_3_loss: 1.6440 - dense_2_loss: 0.0115 - dense_1_loss: 2.1804 - dense_loss: 0.0115\n",
            "Epoch 10/150\n",
            "5888/5888 [==============================] - 0s 85us/sample - loss: 5.1928 - dense_3_loss: 1.6390 - dense_2_loss: 0.0105 - dense_1_loss: 2.1748 - dense_loss: 0.0101\n",
            "Epoch 11/150\n",
            "5888/5888 [==============================] - 0s 79us/sample - loss: 4.6322 - dense_3_loss: 1.6341 - dense_2_loss: 0.0096 - dense_1_loss: 2.1694 - dense_loss: 0.0091\n",
            "Epoch 12/150\n",
            "5888/5888 [==============================] - 0s 82us/sample - loss: 4.2855 - dense_3_loss: 1.6294 - dense_2_loss: 0.0089 - dense_1_loss: 2.1641 - dense_loss: 0.0083\n",
            "Epoch 13/150\n",
            "5888/5888 [==============================] - 0s 79us/sample - loss: 4.0739 - dense_3_loss: 1.6248 - dense_2_loss: 0.0084 - dense_1_loss: 2.1589 - dense_loss: 0.0077\n",
            "Epoch 14/150\n",
            "5888/5888 [==============================] - 0s 81us/sample - loss: 3.9453 - dense_3_loss: 1.6202 - dense_2_loss: 0.0078 - dense_1_loss: 2.1539 - dense_loss: 0.0071\n",
            "Epoch 15/150\n",
            "5888/5888 [==============================] - 0s 78us/sample - loss: 3.8670 - dense_3_loss: 1.6158 - dense_2_loss: 0.0074 - dense_1_loss: 2.1489 - dense_loss: 0.0066\n",
            "Epoch 16/150\n",
            "5888/5888 [==============================] - 0s 81us/sample - loss: 3.8187 - dense_3_loss: 1.6114 - dense_2_loss: 0.0073 - dense_1_loss: 2.1440 - dense_loss: 0.0062\n",
            "Epoch 17/150\n",
            "5888/5888 [==============================] - 0s 79us/sample - loss: 3.7876 - dense_3_loss: 1.6071 - dense_2_loss: 0.0071 - dense_1_loss: 2.1392 - dense_loss: 0.0060\n",
            "Epoch 18/150\n",
            "5888/5888 [==============================] - 0s 81us/sample - loss: 3.7664 - dense_3_loss: 1.6028 - dense_2_loss: 0.0068 - dense_1_loss: 2.1344 - dense_loss: 0.0058\n",
            "Epoch 19/150\n",
            "5888/5888 [==============================] - 0s 80us/sample - loss: 3.7508 - dense_3_loss: 1.5986 - dense_2_loss: 0.0067 - dense_1_loss: 2.1298 - dense_loss: 0.0055\n",
            "Epoch 20/150\n",
            "5888/5888 [==============================] - 0s 81us/sample - loss: 3.7385 - dense_3_loss: 1.5945 - dense_2_loss: 0.0067 - dense_1_loss: 2.1252 - dense_loss: 0.0055\n",
            "Epoch 21/150\n",
            "5888/5888 [==============================] - 0s 79us/sample - loss: 3.7280 - dense_3_loss: 1.5904 - dense_2_loss: 0.0066 - dense_1_loss: 2.1206 - dense_loss: 0.0054\n",
            "Epoch 22/150\n",
            "5888/5888 [==============================] - 0s 80us/sample - loss: 3.7185 - dense_3_loss: 1.5864 - dense_2_loss: 0.0066 - dense_1_loss: 2.1162 - dense_loss: 0.0054\n",
            "Epoch 23/150\n",
            "5888/5888 [==============================] - 0s 80us/sample - loss: 3.7096 - dense_3_loss: 1.5825 - dense_2_loss: 0.0066 - dense_1_loss: 2.1118 - dense_loss: 0.0053\n",
            "Epoch 24/150\n",
            "5888/5888 [==============================] - 0s 80us/sample - loss: 3.7010 - dense_3_loss: 1.5786 - dense_2_loss: 0.0066 - dense_1_loss: 2.1074 - dense_loss: 0.0053\n",
            "Epoch 25/150\n",
            "5888/5888 [==============================] - 0s 80us/sample - loss: 3.6928 - dense_3_loss: 1.5747 - dense_2_loss: 0.0066 - dense_1_loss: 2.1031 - dense_loss: 0.0054\n",
            "Epoch 26/150\n",
            "5888/5888 [==============================] - 0s 79us/sample - loss: 3.6847 - dense_3_loss: 1.5709 - dense_2_loss: 0.0066 - dense_1_loss: 2.0989 - dense_loss: 0.0054\n",
            "Epoch 27/150\n",
            "5888/5888 [==============================] - 0s 85us/sample - loss: 3.6767 - dense_3_loss: 1.5672 - dense_2_loss: 0.0066 - dense_1_loss: 2.0947 - dense_loss: 0.0054\n",
            "Epoch 28/150\n",
            "5888/5888 [==============================] - 0s 80us/sample - loss: 3.6689 - dense_3_loss: 1.5635 - dense_2_loss: 0.0066 - dense_1_loss: 2.0906 - dense_loss: 0.0054\n",
            "Epoch 29/150\n",
            "5888/5888 [==============================] - 0s 84us/sample - loss: 3.6611 - dense_3_loss: 1.5598 - dense_2_loss: 0.0066 - dense_1_loss: 2.0865 - dense_loss: 0.0053\n",
            "Epoch 30/150\n",
            "5888/5888 [==============================] - 0s 82us/sample - loss: 3.6535 - dense_3_loss: 1.5562 - dense_2_loss: 0.0066 - dense_1_loss: 2.0825 - dense_loss: 0.0054\n",
            "Epoch 31/150\n",
            "5888/5888 [==============================] - 0s 85us/sample - loss: 3.6460 - dense_3_loss: 1.5526 - dense_2_loss: 0.0066 - dense_1_loss: 2.0785 - dense_loss: 0.0054\n",
            "Epoch 32/150\n",
            "5888/5888 [==============================] - 0s 81us/sample - loss: 3.6385 - dense_3_loss: 1.5491 - dense_2_loss: 0.0066 - dense_1_loss: 2.0746 - dense_loss: 0.0054\n",
            "Epoch 33/150\n",
            "5888/5888 [==============================] - 0s 81us/sample - loss: 3.6312 - dense_3_loss: 1.5456 - dense_2_loss: 0.0066 - dense_1_loss: 2.0707 - dense_loss: 0.0054\n",
            "Epoch 34/150\n",
            "5888/5888 [==============================] - 0s 79us/sample - loss: 3.6239 - dense_3_loss: 1.5422 - dense_2_loss: 0.0066 - dense_1_loss: 2.0669 - dense_loss: 0.0054\n",
            "Epoch 35/150\n",
            "5888/5888 [==============================] - 0s 81us/sample - loss: 3.6168 - dense_3_loss: 1.5388 - dense_2_loss: 0.0066 - dense_1_loss: 2.0631 - dense_loss: 0.0054\n",
            "Epoch 36/150\n",
            "5888/5888 [==============================] - 0s 79us/sample - loss: 3.6097 - dense_3_loss: 1.5354 - dense_2_loss: 0.0066 - dense_1_loss: 2.0594 - dense_loss: 0.0054\n",
            "Epoch 37/150\n",
            "5888/5888 [==============================] - 0s 81us/sample - loss: 3.6027 - dense_3_loss: 1.5321 - dense_2_loss: 0.0066 - dense_1_loss: 2.0557 - dense_loss: 0.0054\n",
            "Epoch 38/150\n",
            "5888/5888 [==============================] - 0s 81us/sample - loss: 3.5957 - dense_3_loss: 1.5288 - dense_2_loss: 0.0066 - dense_1_loss: 2.0520 - dense_loss: 0.0054\n",
            "Epoch 39/150\n",
            "5888/5888 [==============================] - 0s 78us/sample - loss: 3.5889 - dense_3_loss: 1.5255 - dense_2_loss: 0.0066 - dense_1_loss: 2.0484 - dense_loss: 0.0054\n",
            "Epoch 40/150\n",
            "5888/5888 [==============================] - 0s 79us/sample - loss: 3.5822 - dense_3_loss: 1.5223 - dense_2_loss: 0.0066 - dense_1_loss: 2.0449 - dense_loss: 0.0054\n",
            "Epoch 41/150\n",
            "5888/5888 [==============================] - 0s 79us/sample - loss: 3.5755 - dense_3_loss: 1.5191 - dense_2_loss: 0.0066 - dense_1_loss: 2.0414 - dense_loss: 0.0054\n",
            "Epoch 42/150\n",
            "5888/5888 [==============================] - 0s 82us/sample - loss: 3.5689 - dense_3_loss: 1.5160 - dense_2_loss: 0.0066 - dense_1_loss: 2.0379 - dense_loss: 0.0054\n",
            "Epoch 43/150\n",
            "5888/5888 [==============================] - 0s 80us/sample - loss: 3.5624 - dense_3_loss: 1.5129 - dense_2_loss: 0.0067 - dense_1_loss: 2.0345 - dense_loss: 0.0054\n",
            "Epoch 44/150\n",
            "5888/5888 [==============================] - 0s 82us/sample - loss: 3.5560 - dense_3_loss: 1.5098 - dense_2_loss: 0.0066 - dense_1_loss: 2.0311 - dense_loss: 0.0054\n",
            "Epoch 45/150\n",
            "5888/5888 [==============================] - 0s 80us/sample - loss: 3.5496 - dense_3_loss: 1.5068 - dense_2_loss: 0.0067 - dense_1_loss: 2.0277 - dense_loss: 0.0054\n",
            "Epoch 46/150\n",
            "5888/5888 [==============================] - 0s 82us/sample - loss: 3.5433 - dense_3_loss: 1.5038 - dense_2_loss: 0.0066 - dense_1_loss: 2.0244 - dense_loss: 0.0054\n",
            "Epoch 47/150\n",
            "5888/5888 [==============================] - 0s 81us/sample - loss: 3.5371 - dense_3_loss: 1.5008 - dense_2_loss: 0.0067 - dense_1_loss: 2.0212 - dense_loss: 0.0054\n",
            "Epoch 48/150\n",
            "5888/5888 [==============================] - 0s 82us/sample - loss: 3.5309 - dense_3_loss: 1.4978 - dense_2_loss: 0.0067 - dense_1_loss: 2.0179 - dense_loss: 0.0054\n",
            "Epoch 49/150\n",
            "5888/5888 [==============================] - 0s 83us/sample - loss: 3.5249 - dense_3_loss: 1.4949 - dense_2_loss: 0.0067 - dense_1_loss: 2.0147 - dense_loss: 0.0055\n",
            "Epoch 50/150\n",
            "5888/5888 [==============================] - 0s 83us/sample - loss: 3.5188 - dense_3_loss: 1.4921 - dense_2_loss: 0.0067 - dense_1_loss: 2.0116 - dense_loss: 0.0054\n",
            "Epoch 51/150\n",
            "5888/5888 [==============================] - 0s 79us/sample - loss: 3.5129 - dense_3_loss: 1.4892 - dense_2_loss: 0.0067 - dense_1_loss: 2.0085 - dense_loss: 0.0055\n",
            "Epoch 52/150\n",
            "5888/5888 [==============================] - 0s 82us/sample - loss: 3.5070 - dense_3_loss: 1.4864 - dense_2_loss: 0.0066 - dense_1_loss: 2.0054 - dense_loss: 0.0055\n",
            "Epoch 53/150\n",
            "5888/5888 [==============================] - 0s 80us/sample - loss: 3.5013 - dense_3_loss: 1.4836 - dense_2_loss: 0.0067 - dense_1_loss: 2.0024 - dense_loss: 0.0055\n",
            "Epoch 54/150\n",
            "5888/5888 [==============================] - 0s 82us/sample - loss: 3.4955 - dense_3_loss: 1.4809 - dense_2_loss: 0.0067 - dense_1_loss: 1.9994 - dense_loss: 0.0055\n",
            "Epoch 55/150\n",
            "5888/5888 [==============================] - 0s 80us/sample - loss: 3.4898 - dense_3_loss: 1.4782 - dense_2_loss: 0.0067 - dense_1_loss: 1.9964 - dense_loss: 0.0055\n",
            "Epoch 56/150\n",
            "5888/5888 [==============================] - 0s 81us/sample - loss: 3.4842 - dense_3_loss: 1.4755 - dense_2_loss: 0.0067 - dense_1_loss: 1.9935 - dense_loss: 0.0055\n",
            "Epoch 57/150\n",
            "5888/5888 [==============================] - 0s 81us/sample - loss: 3.4788 - dense_3_loss: 1.4728 - dense_2_loss: 0.0067 - dense_1_loss: 1.9906 - dense_loss: 0.0055\n",
            "Epoch 58/150\n",
            "5888/5888 [==============================] - 0s 80us/sample - loss: 3.4733 - dense_3_loss: 1.4702 - dense_2_loss: 0.0067 - dense_1_loss: 1.9877 - dense_loss: 0.0055\n",
            "Epoch 59/150\n",
            "5888/5888 [==============================] - 0s 82us/sample - loss: 3.4678 - dense_3_loss: 1.4676 - dense_2_loss: 0.0067 - dense_1_loss: 1.9849 - dense_loss: 0.0055\n",
            "Epoch 60/150\n",
            "5888/5888 [==============================] - 0s 79us/sample - loss: 3.4625 - dense_3_loss: 1.4650 - dense_2_loss: 0.0067 - dense_1_loss: 1.9821 - dense_loss: 0.0055\n",
            "Epoch 61/150\n",
            "5888/5888 [==============================] - 0s 82us/sample - loss: 3.4572 - dense_3_loss: 1.4625 - dense_2_loss: 0.0067 - dense_1_loss: 1.9794 - dense_loss: 0.0055\n",
            "Epoch 62/150\n",
            "5888/5888 [==============================] - 0s 80us/sample - loss: 3.4520 - dense_3_loss: 1.4599 - dense_2_loss: 0.0067 - dense_1_loss: 1.9767 - dense_loss: 0.0055\n",
            "Epoch 63/150\n",
            "5888/5888 [==============================] - 0s 82us/sample - loss: 3.4469 - dense_3_loss: 1.4574 - dense_2_loss: 0.0067 - dense_1_loss: 1.9740 - dense_loss: 0.0055\n",
            "Epoch 64/150\n",
            "5888/5888 [==============================] - 0s 82us/sample - loss: 3.4417 - dense_3_loss: 1.4550 - dense_2_loss: 0.0067 - dense_1_loss: 1.9713 - dense_loss: 0.0055\n",
            "Epoch 65/150\n",
            "5888/5888 [==============================] - 0s 81us/sample - loss: 3.4367 - dense_3_loss: 1.4525 - dense_2_loss: 0.0067 - dense_1_loss: 1.9687 - dense_loss: 0.0055\n",
            "Epoch 66/150\n",
            "5888/5888 [==============================] - 0s 81us/sample - loss: 3.4318 - dense_3_loss: 1.4501 - dense_2_loss: 0.0067 - dense_1_loss: 1.9661 - dense_loss: 0.0056\n",
            "Epoch 67/150\n",
            "5888/5888 [==============================] - 0s 81us/sample - loss: 3.4268 - dense_3_loss: 1.4478 - dense_2_loss: 0.0067 - dense_1_loss: 1.9636 - dense_loss: 0.0055\n",
            "Epoch 68/150\n",
            "5888/5888 [==============================] - 0s 81us/sample - loss: 3.4220 - dense_3_loss: 1.4454 - dense_2_loss: 0.0068 - dense_1_loss: 1.9610 - dense_loss: 0.0055\n",
            "Epoch 69/150\n",
            "5888/5888 [==============================] - 0s 82us/sample - loss: 3.4172 - dense_3_loss: 1.4431 - dense_2_loss: 0.0068 - dense_1_loss: 1.9586 - dense_loss: 0.0056\n",
            "Epoch 70/150\n",
            "5888/5888 [==============================] - 0s 80us/sample - loss: 3.4124 - dense_3_loss: 1.4408 - dense_2_loss: 0.0067 - dense_1_loss: 1.9561 - dense_loss: 0.0056\n",
            "Epoch 71/150\n",
            "5888/5888 [==============================] - 0s 84us/sample - loss: 3.4077 - dense_3_loss: 1.4385 - dense_2_loss: 0.0068 - dense_1_loss: 1.9537 - dense_loss: 0.0055\n",
            "Epoch 72/150\n",
            "5888/5888 [==============================] - 0s 81us/sample - loss: 3.4031 - dense_3_loss: 1.4362 - dense_2_loss: 0.0068 - dense_1_loss: 1.9513 - dense_loss: 0.0056\n",
            "Epoch 73/150\n",
            "5888/5888 [==============================] - 0s 82us/sample - loss: 3.3985 - dense_3_loss: 1.4340 - dense_2_loss: 0.0068 - dense_1_loss: 1.9489 - dense_loss: 0.0055\n",
            "Epoch 74/150\n",
            "5888/5888 [==============================] - 0s 81us/sample - loss: 3.3940 - dense_3_loss: 1.4318 - dense_2_loss: 0.0068 - dense_1_loss: 1.9466 - dense_loss: 0.0056\n",
            "Epoch 75/150\n",
            "5888/5888 [==============================] - 0s 81us/sample - loss: 3.3895 - dense_3_loss: 1.4296 - dense_2_loss: 0.0068 - dense_1_loss: 1.9443 - dense_loss: 0.0056\n",
            "Epoch 76/150\n",
            "5888/5888 [==============================] - 0s 81us/sample - loss: 3.3851 - dense_3_loss: 1.4274 - dense_2_loss: 0.0068 - dense_1_loss: 1.9420 - dense_loss: 0.0056\n",
            "Epoch 77/150\n",
            "5888/5888 [==============================] - 0s 81us/sample - loss: 3.3807 - dense_3_loss: 1.4253 - dense_2_loss: 0.0068 - dense_1_loss: 1.9398 - dense_loss: 0.0056\n",
            "Epoch 78/150\n",
            "5888/5888 [==============================] - 0s 79us/sample - loss: 3.3765 - dense_3_loss: 1.4232 - dense_2_loss: 0.0068 - dense_1_loss: 1.9375 - dense_loss: 0.0056\n",
            "Epoch 79/150\n",
            "5888/5888 [==============================] - 0s 81us/sample - loss: 3.3722 - dense_3_loss: 1.4211 - dense_2_loss: 0.0068 - dense_1_loss: 1.9354 - dense_loss: 0.0056\n",
            "Epoch 80/150\n",
            "5888/5888 [==============================] - 0s 82us/sample - loss: 3.3679 - dense_3_loss: 1.4190 - dense_2_loss: 0.0068 - dense_1_loss: 1.9332 - dense_loss: 0.0056\n",
            "Epoch 81/150\n",
            "5888/5888 [==============================] - 0s 79us/sample - loss: 3.3638 - dense_3_loss: 1.4170 - dense_2_loss: 0.0068 - dense_1_loss: 1.9311 - dense_loss: 0.0056\n",
            "Epoch 82/150\n",
            "5888/5888 [==============================] - 0s 83us/sample - loss: 3.3597 - dense_3_loss: 1.4150 - dense_2_loss: 0.0068 - dense_1_loss: 1.9290 - dense_loss: 0.0056\n",
            "Epoch 83/150\n",
            "5888/5888 [==============================] - 0s 80us/sample - loss: 3.3557 - dense_3_loss: 1.4130 - dense_2_loss: 0.0069 - dense_1_loss: 1.9269 - dense_loss: 0.0056\n",
            "Epoch 84/150\n",
            "5888/5888 [==============================] - 0s 83us/sample - loss: 3.3517 - dense_3_loss: 1.4110 - dense_2_loss: 0.0068 - dense_1_loss: 1.9248 - dense_loss: 0.0056\n",
            "Epoch 85/150\n",
            "5888/5888 [==============================] - 0s 80us/sample - loss: 3.3477 - dense_3_loss: 1.4091 - dense_2_loss: 0.0068 - dense_1_loss: 1.9228 - dense_loss: 0.0056\n",
            "Epoch 86/150\n",
            "5888/5888 [==============================] - 0s 81us/sample - loss: 3.3438 - dense_3_loss: 1.4071 - dense_2_loss: 0.0068 - dense_1_loss: 1.9208 - dense_loss: 0.0056\n",
            "Epoch 87/150\n",
            "5888/5888 [==============================] - 0s 81us/sample - loss: 3.3400 - dense_3_loss: 1.4052 - dense_2_loss: 0.0069 - dense_1_loss: 1.9189 - dense_loss: 0.0056\n",
            "Epoch 88/150\n",
            "5888/5888 [==============================] - 0s 82us/sample - loss: 3.3361 - dense_3_loss: 1.4034 - dense_2_loss: 0.0068 - dense_1_loss: 1.9169 - dense_loss: 0.0056\n",
            "Epoch 89/150\n",
            "5888/5888 [==============================] - 0s 79us/sample - loss: 3.3324 - dense_3_loss: 1.4015 - dense_2_loss: 0.0069 - dense_1_loss: 1.9150 - dense_loss: 0.0056\n",
            "Epoch 90/150\n",
            "5888/5888 [==============================] - 0s 81us/sample - loss: 3.3287 - dense_3_loss: 1.3996 - dense_2_loss: 0.0069 - dense_1_loss: 1.9132 - dense_loss: 0.0057\n",
            "Epoch 91/150\n",
            "5888/5888 [==============================] - 0s 81us/sample - loss: 3.3250 - dense_3_loss: 1.3978 - dense_2_loss: 0.0069 - dense_1_loss: 1.9113 - dense_loss: 0.0056\n",
            "Epoch 92/150\n",
            "5888/5888 [==============================] - 0s 81us/sample - loss: 3.3214 - dense_3_loss: 1.3960 - dense_2_loss: 0.0069 - dense_1_loss: 1.9095 - dense_loss: 0.0056\n",
            "Epoch 93/150\n",
            "5888/5888 [==============================] - 0s 81us/sample - loss: 3.3178 - dense_3_loss: 1.3942 - dense_2_loss: 0.0069 - dense_1_loss: 1.9077 - dense_loss: 0.0057\n",
            "Epoch 94/150\n",
            "5888/5888 [==============================] - 0s 83us/sample - loss: 3.3143 - dense_3_loss: 1.3925 - dense_2_loss: 0.0068 - dense_1_loss: 1.9059 - dense_loss: 0.0056\n",
            "Epoch 95/150\n",
            "5888/5888 [==============================] - 0s 80us/sample - loss: 3.3108 - dense_3_loss: 1.3907 - dense_2_loss: 0.0069 - dense_1_loss: 1.9041 - dense_loss: 0.0057\n",
            "Epoch 96/150\n",
            "5888/5888 [==============================] - 0s 80us/sample - loss: 3.3074 - dense_3_loss: 1.3890 - dense_2_loss: 0.0069 - dense_1_loss: 1.9024 - dense_loss: 0.0057\n",
            "Epoch 97/150\n",
            "5888/5888 [==============================] - 0s 84us/sample - loss: 3.3041 - dense_3_loss: 1.3873 - dense_2_loss: 0.0069 - dense_1_loss: 1.9007 - dense_loss: 0.0057\n",
            "Epoch 98/150\n",
            "5888/5888 [==============================] - 0s 82us/sample - loss: 3.3007 - dense_3_loss: 1.3856 - dense_2_loss: 0.0069 - dense_1_loss: 1.8990 - dense_loss: 0.0057\n",
            "Epoch 99/150\n",
            "5888/5888 [==============================] - 0s 81us/sample - loss: 3.2974 - dense_3_loss: 1.3840 - dense_2_loss: 0.0069 - dense_1_loss: 1.8974 - dense_loss: 0.0057\n",
            "Epoch 100/150\n",
            "5888/5888 [==============================] - 0s 80us/sample - loss: 3.2941 - dense_3_loss: 1.3823 - dense_2_loss: 0.0069 - dense_1_loss: 1.8957 - dense_loss: 0.0057\n",
            "Epoch 101/150\n",
            "5888/5888 [==============================] - 0s 81us/sample - loss: 3.2909 - dense_3_loss: 1.3807 - dense_2_loss: 0.0069 - dense_1_loss: 1.8941 - dense_loss: 0.0057\n",
            "Epoch 102/150\n",
            "5888/5888 [==============================] - 0s 80us/sample - loss: 3.2878 - dense_3_loss: 1.3791 - dense_2_loss: 0.0069 - dense_1_loss: 1.8925 - dense_loss: 0.0057\n",
            "Epoch 103/150\n",
            "5888/5888 [==============================] - 0s 82us/sample - loss: 3.2846 - dense_3_loss: 1.3775 - dense_2_loss: 0.0069 - dense_1_loss: 1.8910 - dense_loss: 0.0057\n",
            "Epoch 104/150\n",
            "5888/5888 [==============================] - 0s 80us/sample - loss: 3.2816 - dense_3_loss: 1.3760 - dense_2_loss: 0.0069 - dense_1_loss: 1.8895 - dense_loss: 0.0057\n",
            "Epoch 105/150\n",
            "5888/5888 [==============================] - 0s 82us/sample - loss: 3.2784 - dense_3_loss: 1.3744 - dense_2_loss: 0.0069 - dense_1_loss: 1.8879 - dense_loss: 0.0057\n",
            "Epoch 106/150\n",
            "5888/5888 [==============================] - 0s 80us/sample - loss: 3.2755 - dense_3_loss: 1.3729 - dense_2_loss: 0.0069 - dense_1_loss: 1.8864 - dense_loss: 0.0058\n",
            "Epoch 107/150\n",
            "5888/5888 [==============================] - 0s 81us/sample - loss: 3.2726 - dense_3_loss: 1.3714 - dense_2_loss: 0.0069 - dense_1_loss: 1.8850 - dense_loss: 0.0058\n",
            "Epoch 108/150\n",
            "5888/5888 [==============================] - 0s 81us/sample - loss: 3.2696 - dense_3_loss: 1.3699 - dense_2_loss: 0.0069 - dense_1_loss: 1.8835 - dense_loss: 0.0058\n",
            "Epoch 109/150\n",
            "5888/5888 [==============================] - 0s 82us/sample - loss: 3.2666 - dense_3_loss: 1.3684 - dense_2_loss: 0.0069 - dense_1_loss: 1.8821 - dense_loss: 0.0057\n",
            "Epoch 110/150\n",
            "5888/5888 [==============================] - 0s 79us/sample - loss: 3.2638 - dense_3_loss: 1.3669 - dense_2_loss: 0.0069 - dense_1_loss: 1.8807 - dense_loss: 0.0057\n",
            "Epoch 111/150\n",
            "5888/5888 [==============================] - 0s 83us/sample - loss: 3.2610 - dense_3_loss: 1.3655 - dense_2_loss: 0.0069 - dense_1_loss: 1.8793 - dense_loss: 0.0057\n",
            "Epoch 112/150\n",
            "5888/5888 [==============================] - 0s 79us/sample - loss: 3.2582 - dense_3_loss: 1.3641 - dense_2_loss: 0.0069 - dense_1_loss: 1.8780 - dense_loss: 0.0057\n",
            "Epoch 113/150\n",
            "5888/5888 [==============================] - 0s 81us/sample - loss: 3.2555 - dense_3_loss: 1.3627 - dense_2_loss: 0.0069 - dense_1_loss: 1.8766 - dense_loss: 0.0058\n",
            "Epoch 114/150\n",
            "5888/5888 [==============================] - 0s 82us/sample - loss: 3.2529 - dense_3_loss: 1.3613 - dense_2_loss: 0.0070 - dense_1_loss: 1.8753 - dense_loss: 0.0058\n",
            "Epoch 115/150\n",
            "5888/5888 [==============================] - 0s 81us/sample - loss: 3.2502 - dense_3_loss: 1.3599 - dense_2_loss: 0.0069 - dense_1_loss: 1.8740 - dense_loss: 0.0058\n",
            "Epoch 116/150\n",
            "5888/5888 [==============================] - 0s 83us/sample - loss: 3.2476 - dense_3_loss: 1.3586 - dense_2_loss: 0.0070 - dense_1_loss: 1.8727 - dense_loss: 0.0058\n",
            "Epoch 117/150\n",
            "5888/5888 [==============================] - 0s 79us/sample - loss: 3.2450 - dense_3_loss: 1.3572 - dense_2_loss: 0.0069 - dense_1_loss: 1.8715 - dense_loss: 0.0058\n",
            "Epoch 118/150\n",
            "5888/5888 [==============================] - 0s 82us/sample - loss: 3.2424 - dense_3_loss: 1.3559 - dense_2_loss: 0.0070 - dense_1_loss: 1.8703 - dense_loss: 0.0057\n",
            "Epoch 119/150\n",
            "5888/5888 [==============================] - 0s 82us/sample - loss: 3.2399 - dense_3_loss: 1.3546 - dense_2_loss: 0.0070 - dense_1_loss: 1.8690 - dense_loss: 0.0058\n",
            "Epoch 120/150\n",
            "5888/5888 [==============================] - 0s 83us/sample - loss: 3.2373 - dense_3_loss: 1.3533 - dense_2_loss: 0.0069 - dense_1_loss: 1.8678 - dense_loss: 0.0058\n",
            "Epoch 121/150\n",
            "5888/5888 [==============================] - 0s 82us/sample - loss: 3.2351 - dense_3_loss: 1.3520 - dense_2_loss: 0.0070 - dense_1_loss: 1.8667 - dense_loss: 0.0058\n",
            "Epoch 122/150\n",
            "5888/5888 [==============================] - 0s 83us/sample - loss: 3.2326 - dense_3_loss: 1.3508 - dense_2_loss: 0.0069 - dense_1_loss: 1.8655 - dense_loss: 0.0057\n",
            "Epoch 123/150\n",
            "5888/5888 [==============================] - 0s 81us/sample - loss: 3.2302 - dense_3_loss: 1.3495 - dense_2_loss: 0.0069 - dense_1_loss: 1.8644 - dense_loss: 0.0058\n",
            "Epoch 124/150\n",
            "5888/5888 [==============================] - 0s 82us/sample - loss: 3.2279 - dense_3_loss: 1.3483 - dense_2_loss: 0.0070 - dense_1_loss: 1.8633 - dense_loss: 0.0058\n",
            "Epoch 125/150\n",
            "5888/5888 [==============================] - 0s 82us/sample - loss: 3.2255 - dense_3_loss: 1.3471 - dense_2_loss: 0.0070 - dense_1_loss: 1.8622 - dense_loss: 0.0057\n",
            "Epoch 126/150\n",
            "5888/5888 [==============================] - 1s 85us/sample - loss: 3.2233 - dense_3_loss: 1.3459 - dense_2_loss: 0.0070 - dense_1_loss: 1.8611 - dense_loss: 0.0058\n",
            "Epoch 127/150\n",
            "5888/5888 [==============================] - 0s 80us/sample - loss: 3.2211 - dense_3_loss: 1.3447 - dense_2_loss: 0.0070 - dense_1_loss: 1.8600 - dense_loss: 0.0058\n",
            "Epoch 128/150\n",
            "5888/5888 [==============================] - 0s 81us/sample - loss: 3.2188 - dense_3_loss: 1.3436 - dense_2_loss: 0.0070 - dense_1_loss: 1.8590 - dense_loss: 0.0058\n",
            "Epoch 129/150\n",
            "5888/5888 [==============================] - 0s 80us/sample - loss: 3.2167 - dense_3_loss: 1.3424 - dense_2_loss: 0.0069 - dense_1_loss: 1.8579 - dense_loss: 0.0058\n",
            "Epoch 130/150\n",
            "5888/5888 [==============================] - 0s 82us/sample - loss: 3.2145 - dense_3_loss: 1.3413 - dense_2_loss: 0.0070 - dense_1_loss: 1.8569 - dense_loss: 0.0058\n",
            "Epoch 131/150\n",
            "5888/5888 [==============================] - 0s 81us/sample - loss: 3.2124 - dense_3_loss: 1.3401 - dense_2_loss: 0.0069 - dense_1_loss: 1.8559 - dense_loss: 0.0057\n",
            "Epoch 132/150\n",
            "5888/5888 [==============================] - 0s 82us/sample - loss: 3.2104 - dense_3_loss: 1.3390 - dense_2_loss: 0.0069 - dense_1_loss: 1.8550 - dense_loss: 0.0058\n",
            "Epoch 133/150\n",
            "5888/5888 [==============================] - 0s 81us/sample - loss: 3.2083 - dense_3_loss: 1.3379 - dense_2_loss: 0.0070 - dense_1_loss: 1.8540 - dense_loss: 0.0058\n",
            "Epoch 134/150\n",
            "5888/5888 [==============================] - 0s 81us/sample - loss: 3.2063 - dense_3_loss: 1.3369 - dense_2_loss: 0.0070 - dense_1_loss: 1.8531 - dense_loss: 0.0058\n",
            "Epoch 135/150\n",
            "5888/5888 [==============================] - 0s 81us/sample - loss: 3.2043 - dense_3_loss: 1.3358 - dense_2_loss: 0.0070 - dense_1_loss: 1.8521 - dense_loss: 0.0058\n",
            "Epoch 136/150\n",
            "5888/5888 [==============================] - 1s 86us/sample - loss: 3.2024 - dense_3_loss: 1.3348 - dense_2_loss: 0.0070 - dense_1_loss: 1.8512 - dense_loss: 0.0057\n",
            "Epoch 137/150\n",
            "5888/5888 [==============================] - 0s 82us/sample - loss: 3.2005 - dense_3_loss: 1.3337 - dense_2_loss: 0.0070 - dense_1_loss: 1.8503 - dense_loss: 0.0058\n",
            "Epoch 138/150\n",
            "5888/5888 [==============================] - 0s 80us/sample - loss: 3.1985 - dense_3_loss: 1.3327 - dense_2_loss: 0.0070 - dense_1_loss: 1.8495 - dense_loss: 0.0058\n",
            "Epoch 139/150\n",
            "5888/5888 [==============================] - 0s 83us/sample - loss: 3.1966 - dense_3_loss: 1.3317 - dense_2_loss: 0.0070 - dense_1_loss: 1.8486 - dense_loss: 0.0058\n",
            "Epoch 140/150\n",
            "5888/5888 [==============================] - 0s 80us/sample - loss: 3.1948 - dense_3_loss: 1.3307 - dense_2_loss: 0.0070 - dense_1_loss: 1.8477 - dense_loss: 0.0058\n",
            "Epoch 141/150\n",
            "5888/5888 [==============================] - 0s 81us/sample - loss: 3.1931 - dense_3_loss: 1.3297 - dense_2_loss: 0.0070 - dense_1_loss: 1.8469 - dense_loss: 0.0058\n",
            "Epoch 142/150\n",
            "5888/5888 [==============================] - 0s 79us/sample - loss: 3.1913 - dense_3_loss: 1.3287 - dense_2_loss: 0.0070 - dense_1_loss: 1.8461 - dense_loss: 0.0058\n",
            "Epoch 143/150\n",
            "5888/5888 [==============================] - 0s 83us/sample - loss: 3.1894 - dense_3_loss: 1.3278 - dense_2_loss: 0.0070 - dense_1_loss: 1.8453 - dense_loss: 0.0057\n",
            "Epoch 144/150\n",
            "5888/5888 [==============================] - 0s 79us/sample - loss: 3.1878 - dense_3_loss: 1.3268 - dense_2_loss: 0.0070 - dense_1_loss: 1.8445 - dense_loss: 0.0058\n",
            "Epoch 145/150\n",
            "5888/5888 [==============================] - 0s 83us/sample - loss: 3.1861 - dense_3_loss: 1.3259 - dense_2_loss: 0.0070 - dense_1_loss: 1.8437 - dense_loss: 0.0058\n",
            "Epoch 146/150\n",
            "5888/5888 [==============================] - 0s 79us/sample - loss: 3.1844 - dense_3_loss: 1.3250 - dense_2_loss: 0.0070 - dense_1_loss: 1.8430 - dense_loss: 0.0058\n",
            "Epoch 147/150\n",
            "5888/5888 [==============================] - 0s 82us/sample - loss: 3.1828 - dense_3_loss: 1.3241 - dense_2_loss: 0.0070 - dense_1_loss: 1.8422 - dense_loss: 0.0058\n",
            "Epoch 148/150\n",
            "5888/5888 [==============================] - 0s 80us/sample - loss: 3.1812 - dense_3_loss: 1.3232 - dense_2_loss: 0.0071 - dense_1_loss: 1.8415 - dense_loss: 0.0058\n",
            "Epoch 149/150\n",
            "5888/5888 [==============================] - 0s 81us/sample - loss: 3.1796 - dense_3_loss: 1.3223 - dense_2_loss: 0.0070 - dense_1_loss: 1.8408 - dense_loss: 0.0058\n",
            "Epoch 150/150\n",
            "5888/5888 [==============================] - 0s 79us/sample - loss: 3.1780 - dense_3_loss: 1.3214 - dense_2_loss: 0.0070 - dense_1_loss: 1.8401 - dense_loss: 0.0058\n"
          ],
          "name": "stdout"
        }
      ]
    },
    {
      "cell_type": "code",
      "metadata": {
        "id": "1OPJpCwtZ-pn",
        "colab_type": "code",
        "colab": {}
      },
      "source": [
        "training_query_skt,training_query_label,z_s=get_skt_data()"
      ],
      "execution_count": 0,
      "outputs": []
    },
    {
      "cell_type": "code",
      "metadata": {
        "id": "4fPus3_8EaKs",
        "colab_type": "code",
        "outputId": "c05f2bad-3ea3-4b2d-e5a7-0c7a0c3d009e",
        "colab": {
          "base_uri": "https://localhost:8080/",
          "height": 51
        }
      },
      "source": [
        "z_s[0]"
      ],
      "execution_count": 0,
      "outputs": [
        {
          "output_type": "execute_result",
          "data": {
            "text/plain": [
              "array([3.903205 , 0.       , 0.       , ..., 0.       , 0.421281 ,\n",
              "       3.5883198], dtype=float32)"
            ]
          },
          "metadata": {
            "tags": []
          },
          "execution_count": 35
        }
      ]
    },
    {
      "cell_type": "code",
      "metadata": {
        "id": "BdeM2a1eEc3b",
        "colab_type": "code",
        "outputId": "787e3c03-5c6f-4763-a358-1cabb32a317f",
        "colab": {
          "base_uri": "https://localhost:8080/",
          "height": 425
        }
      },
      "source": [
        "training_query_skt[5]"
      ],
      "execution_count": 0,
      "outputs": [
        {
          "output_type": "execute_result",
          "data": {
            "text/plain": [
              "array([4.9887320e-01, 0.0000000e+00, 0.0000000e+00, 0.0000000e+00,\n",
              "       0.0000000e+00, 8.1679728e-03, 0.0000000e+00, 0.0000000e+00,\n",
              "       0.0000000e+00, 0.0000000e+00, 0.0000000e+00, 0.0000000e+00,\n",
              "       0.0000000e+00, 0.0000000e+00, 0.0000000e+00, 0.0000000e+00,\n",
              "       0.0000000e+00, 0.0000000e+00, 0.0000000e+00, 0.0000000e+00,\n",
              "       0.0000000e+00, 0.0000000e+00, 0.0000000e+00, 0.0000000e+00,\n",
              "       0.0000000e+00, 0.0000000e+00, 0.0000000e+00, 0.0000000e+00,\n",
              "       4.8570454e-02, 0.0000000e+00, 0.0000000e+00, 0.0000000e+00,\n",
              "       0.0000000e+00, 0.0000000e+00, 0.0000000e+00, 0.0000000e+00,\n",
              "       4.0162541e-04, 0.0000000e+00, 0.0000000e+00, 0.0000000e+00,\n",
              "       0.0000000e+00, 0.0000000e+00, 0.0000000e+00, 0.0000000e+00,\n",
              "       0.0000000e+00, 0.0000000e+00, 0.0000000e+00, 0.0000000e+00,\n",
              "       0.0000000e+00, 0.0000000e+00, 0.0000000e+00, 0.0000000e+00,\n",
              "       0.0000000e+00, 0.0000000e+00, 0.0000000e+00, 1.1880214e-01,\n",
              "       1.9765442e-02, 0.0000000e+00, 0.0000000e+00, 0.0000000e+00,\n",
              "       0.0000000e+00, 0.0000000e+00, 0.0000000e+00, 0.0000000e+00,\n",
              "       0.0000000e+00, 0.0000000e+00, 0.0000000e+00, 0.0000000e+00,\n",
              "       0.0000000e+00, 0.0000000e+00, 0.0000000e+00, 0.0000000e+00,\n",
              "       0.0000000e+00, 0.0000000e+00, 0.0000000e+00, 0.0000000e+00,\n",
              "       0.0000000e+00, 0.0000000e+00, 0.0000000e+00, 0.0000000e+00,\n",
              "       0.0000000e+00, 1.0938601e-01, 4.0688612e-02, 0.0000000e+00,\n",
              "       0.0000000e+00, 0.0000000e+00, 0.0000000e+00, 0.0000000e+00,\n",
              "       0.0000000e+00, 5.9152339e-03, 0.0000000e+00, 0.0000000e+00],\n",
              "      dtype=float32)"
            ]
          },
          "metadata": {
            "tags": []
          },
          "execution_count": 36
        }
      ]
    },
    {
      "cell_type": "code",
      "metadata": {
        "id": "bDZ0IPnohwF9",
        "colab_type": "code",
        "colab": {}
      },
      "source": [
        "training_search_img,training_search_img_label,z_i=get_img_data()"
      ],
      "execution_count": 0,
      "outputs": []
    },
    {
      "cell_type": "code",
      "metadata": {
        "id": "_O1FuwrnEleH",
        "colab_type": "code",
        "outputId": "1ee719a5-79aa-44e9-8fb4-2883219d93bc",
        "colab": {
          "base_uri": "https://localhost:8080/",
          "height": 340
        }
      },
      "source": [
        "training_search_img[1000]"
      ],
      "execution_count": 0,
      "outputs": [
        {
          "output_type": "execute_result",
          "data": {
            "text/plain": [
              "array([0.        , 0.        , 0.        , 0.        , 0.        ,\n",
              "       0.        , 0.        , 0.        , 0.        , 0.        ,\n",
              "       0.        , 0.        , 0.        , 0.        , 0.        ,\n",
              "       0.5074961 , 0.        , 0.        , 0.        , 0.        ,\n",
              "       0.        , 0.        , 0.00236342, 0.        , 0.        ,\n",
              "       0.08218174, 0.        , 0.        , 0.        , 0.        ,\n",
              "       0.        , 0.        , 0.        , 0.        , 0.        ,\n",
              "       0.        , 0.        , 0.        , 0.        , 0.        ,\n",
              "       0.06471495, 0.01171055, 0.        , 0.        , 0.        ,\n",
              "       0.        , 0.        , 0.        , 0.        , 0.        ,\n",
              "       0.        , 0.        , 0.        , 0.        , 0.        ,\n",
              "       0.        , 0.        , 0.        , 0.        , 0.        ,\n",
              "       0.        , 0.        , 0.        , 0.        , 0.        ,\n",
              "       0.        , 0.        , 0.        , 0.        , 0.        ,\n",
              "       0.        , 0.        , 0.        , 0.07035799, 0.        ,\n",
              "       0.        , 0.        , 0.        , 0.        , 0.        ,\n",
              "       0.        , 0.        , 0.        , 0.        , 0.        ,\n",
              "       0.01075779, 0.        , 0.        , 0.        , 0.        ,\n",
              "       0.        , 0.        ], dtype=float32)"
            ]
          },
          "metadata": {
            "tags": []
          },
          "execution_count": 38
        }
      ]
    },
    {
      "cell_type": "code",
      "metadata": {
        "id": "T0i-uxhnElg9",
        "colab_type": "code",
        "colab": {}
      },
      "source": [
        ""
      ],
      "execution_count": 0,
      "outputs": []
    },
    {
      "cell_type": "code",
      "metadata": {
        "id": "FksuAlMYj9xU",
        "colab_type": "code",
        "outputId": "70db4e41-b440-425d-89a2-3bce57ee9f5e",
        "colab": {
          "base_uri": "https://localhost:8080/",
          "height": 34
        }
      },
      "source": [
        "eval_MAP_K(training_query_skt,training_search_img,training_query_label,training_search_img_label,200)"
      ],
      "execution_count": 0,
      "outputs": [
        {
          "output_type": "execute_result",
          "data": {
            "text/plain": [
              "0.4549828521584694"
            ]
          },
          "metadata": {
            "tags": []
          },
          "execution_count": 39
        }
      ]
    },
    {
      "cell_type": "code",
      "metadata": {
        "id": "W_I-IsEnk0WS",
        "colab_type": "code",
        "colab": {}
      },
      "source": [
        ""
      ],
      "execution_count": 0,
      "outputs": []
    }
  ]
}